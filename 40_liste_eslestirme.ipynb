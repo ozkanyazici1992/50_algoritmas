{
 "cells": [
  {
   "cell_type": "code",
   "execution_count": 1,
   "id": "25e0d4c1",
   "metadata": {},
   "outputs": [],
   "source": [
    "def pairs(list1):\n",
    "    list_new = []\n",
    "    for i in range(len(list1)//2):\n",
    "        list_new.append([list1[i],list1[-1-i]])\n",
    "    return list_new"
   ]
  },
  {
   "cell_type": "code",
   "execution_count": 2,
   "id": "480db27b",
   "metadata": {},
   "outputs": [
    {
     "data": {
      "text/plain": [
       "[[1, 6], [2, 5], [3, 4]]"
      ]
     },
     "execution_count": 2,
     "metadata": {},
     "output_type": "execute_result"
    }
   ],
   "source": [
    "pairs([1,2,3,4,5,6])"
   ]
  },
  {
   "cell_type": "code",
   "execution_count": 3,
   "id": "cf62e40e",
   "metadata": {},
   "outputs": [],
   "source": [
    "def pairs(list1):\n",
    "    list_new = []\n",
    "    for i in range(len(list1)//2):\n",
    "        list_new.append([list1[i],list1[-1-i]])\n",
    "    if len(list1) % 2 == 1:\n",
    "        list_new.append([list1[len(list1)//2],list1[len(list1)//2]])\n",
    "    return list_new"
   ]
  },
  {
   "cell_type": "code",
   "execution_count": 4,
   "id": "cfbe54e9",
   "metadata": {},
   "outputs": [
    {
     "data": {
      "text/plain": [
       "[[1, 6], [2, 5], [3, 4]]"
      ]
     },
     "execution_count": 4,
     "metadata": {},
     "output_type": "execute_result"
    }
   ],
   "source": [
    "pairs([1,2,3,4,5,6])"
   ]
  },
  {
   "cell_type": "code",
   "execution_count": 5,
   "id": "6cae2965",
   "metadata": {},
   "outputs": [
    {
     "data": {
      "text/plain": [
       "[[1, 7], [2, 6], [3, 5], [4, 4]]"
      ]
     },
     "execution_count": 5,
     "metadata": {},
     "output_type": "execute_result"
    }
   ],
   "source": [
    "pairs([1,2,3,4,5,6,7])"
   ]
  }
 ],
 "metadata": {
  "kernelspec": {
   "display_name": "Python 3 (ipykernel)",
   "language": "python",
   "name": "python3"
  },
  "language_info": {
   "codemirror_mode": {
    "name": "ipython",
    "version": 3
   },
   "file_extension": ".py",
   "mimetype": "text/x-python",
   "name": "python",
   "nbconvert_exporter": "python",
   "pygments_lexer": "ipython3",
   "version": "3.9.13"
  }
 },
 "nbformat": 4,
 "nbformat_minor": 5
}
