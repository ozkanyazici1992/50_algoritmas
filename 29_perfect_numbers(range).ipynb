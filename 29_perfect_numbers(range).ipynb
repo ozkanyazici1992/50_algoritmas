{
 "cells": [
  {
   "cell_type": "code",
   "execution_count": 1,
   "id": "4ebbacb1",
   "metadata": {},
   "outputs": [
    {
     "data": {
      "text/plain": [
       "[1, 2, 3, 4, 5]"
      ]
     },
     "execution_count": 1,
     "metadata": {},
     "output_type": "execute_result"
    }
   ],
   "source": [
    "[i for i in range (1,6)]"
   ]
  },
  {
   "cell_type": "code",
   "execution_count": 2,
   "id": "a3c14927",
   "metadata": {},
   "outputs": [
    {
     "data": {
      "text/plain": [
       "[1, 4, 9, 16, 25]"
      ]
     },
     "execution_count": 2,
     "metadata": {},
     "output_type": "execute_result"
    }
   ],
   "source": [
    "[i**2 for i in range (1,6)]"
   ]
  },
  {
   "cell_type": "code",
   "execution_count": 3,
   "id": "bc009c8d",
   "metadata": {},
   "outputs": [
    {
     "data": {
      "text/plain": [
       "<generator object <genexpr> at 0x000001B59DD52B30>"
      ]
     },
     "execution_count": 3,
     "metadata": {},
     "output_type": "execute_result"
    }
   ],
   "source": [
    "(i**2 for i in range (1,6))"
   ]
  },
  {
   "cell_type": "code",
   "execution_count": 4,
   "id": "9d846409",
   "metadata": {},
   "outputs": [
    {
     "data": {
      "text/plain": [
       "[1, 4, 9, 16, 25]"
      ]
     },
     "execution_count": 4,
     "metadata": {},
     "output_type": "execute_result"
    }
   ],
   "source": [
    "list(i**2 for i in range (1,6))"
   ]
  },
  {
   "cell_type": "code",
   "execution_count": 5,
   "id": "674028aa",
   "metadata": {},
   "outputs": [
    {
     "data": {
      "text/plain": [
       "55"
      ]
     },
     "execution_count": 5,
     "metadata": {},
     "output_type": "execute_result"
    }
   ],
   "source": [
    "sum(i**2 for i in range (1,6))"
   ]
  },
  {
   "cell_type": "code",
   "execution_count": 6,
   "id": "ecbfb6d3",
   "metadata": {},
   "outputs": [
    {
     "data": {
      "text/plain": [
       "25"
      ]
     },
     "execution_count": 6,
     "metadata": {},
     "output_type": "execute_result"
    }
   ],
   "source": [
    "max(i**2 for i in range (1,6))"
   ]
  },
  {
   "cell_type": "code",
   "execution_count": 7,
   "id": "4c821f45",
   "metadata": {},
   "outputs": [
    {
     "data": {
      "text/plain": [
       "1"
      ]
     },
     "execution_count": 7,
     "metadata": {},
     "output_type": "execute_result"
    }
   ],
   "source": [
    "min(i**2 for i in range (1,6))"
   ]
  },
  {
   "cell_type": "code",
   "execution_count": 8,
   "id": "5717c39e",
   "metadata": {},
   "outputs": [
    {
     "name": "stdout",
     "output_type": "stream",
     "text": [
      "enter a number6\n",
      "6 is perfect number\n"
     ]
    }
   ],
   "source": [
    "num = int(input(\"enter a number\"))\n",
    "if num == sum([i if num % i == 0 else 0 for i in range(1,num)]):\n",
    "    print(f\"{num} is perfect number\")\n",
    "else:\n",
    "    print(f\"{num} is not perfect number\")"
   ]
  },
  {
   "cell_type": "code",
   "execution_count": 9,
   "id": "578a0d53",
   "metadata": {},
   "outputs": [
    {
     "name": "stdout",
     "output_type": "stream",
     "text": [
      "enter a number496\n",
      "496 is perfect number\n"
     ]
    }
   ],
   "source": [
    "num = int(input(\"enter a number\"))\n",
    "if num == sum([i if num % i == 0 else 0 for i in range(1,num)]):\n",
    "    print(f\"{num} is perfect number\")\n",
    "else:\n",
    "    print(f\"{num} is not perfect number\")"
   ]
  },
  {
   "cell_type": "code",
   "execution_count": 10,
   "id": "8a1f9ade",
   "metadata": {},
   "outputs": [
    {
     "name": "stdout",
     "output_type": "stream",
     "text": [
      "enter a number250\n",
      "250 is not perfect number\n"
     ]
    }
   ],
   "source": [
    "num = int(input(\"enter a number\"))\n",
    "if num == sum([i if num % i == 0 else 0 for i in range(1,num)]):\n",
    "    print(f\"{num} is perfect number\")\n",
    "else:\n",
    "    print(f\"{num} is not perfect number\")"
   ]
  }
 ],
 "metadata": {
  "kernelspec": {
   "display_name": "Python 3 (ipykernel)",
   "language": "python",
   "name": "python3"
  },
  "language_info": {
   "codemirror_mode": {
    "name": "ipython",
    "version": 3
   },
   "file_extension": ".py",
   "mimetype": "text/x-python",
   "name": "python",
   "nbconvert_exporter": "python",
   "pygments_lexer": "ipython3",
   "version": "3.9.13"
  }
 },
 "nbformat": 4,
 "nbformat_minor": 5
}
