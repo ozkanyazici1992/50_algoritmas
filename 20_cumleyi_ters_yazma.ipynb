{
 "cells": [
  {
   "cell_type": "code",
   "execution_count": 1,
   "id": "c9c7b496",
   "metadata": {
    "scrolled": true
   },
   "outputs": [
    {
     "name": "stdout",
     "output_type": "stream",
     "text": [
      "['my', 'name', 'is', 'ozkan', 'and', 'i', 'am', '30', 'years', 'old']\n",
      "old\n",
      "years\n",
      "30\n",
      "am\n",
      "i\n",
      "and\n",
      "ozkan\n",
      "is\n",
      "name\n",
      "my\n"
     ]
    }
   ],
   "source": [
    "name = \"my name is ozkan and i am 30 years old\"\n",
    "word_list=name.split(\" \")\n",
    "print(word_list)\n",
    "n=len(word_list) - 1\n",
    "while n >= 0:\n",
    "    print(word_list[n])\n",
    "    n-=1"
   ]
  },
  {
   "cell_type": "code",
   "execution_count": 2,
   "id": "f638b7d5",
   "metadata": {},
   "outputs": [
    {
     "name": "stdout",
     "output_type": "stream",
     "text": [
      "old years 30 am i and ozkan is name my "
     ]
    }
   ],
   "source": [
    "name = \"my name is ozkan and i am 30 years old\"\n",
    "word_list=name.split(\" \")\n",
    "n=len(word_list) - 1\n",
    "while n >= 0:\n",
    "    print(word_list[n],end=\" \")\n",
    "    n-=1"
   ]
  },
  {
   "cell_type": "code",
   "execution_count": 3,
   "id": "3ace5e77",
   "metadata": {},
   "outputs": [
    {
     "name": "stdout",
     "output_type": "stream",
     "text": [
      "['old', 'years', '30', 'am', 'i', 'and', 'ozkan', 'is', 'name', 'my']\n"
     ]
    }
   ],
   "source": [
    "name = \"my name is ozkan and i am 30 years old\"\n",
    "word_list=name.split(\" \")\n",
    "print(word_list[::-1])"
   ]
  },
  {
   "cell_type": "code",
   "execution_count": 4,
   "id": "df23c322",
   "metadata": {},
   "outputs": [
    {
     "name": "stdout",
     "output_type": "stream",
     "text": [
      "old years 30 am i and ozkan is name my\n"
     ]
    }
   ],
   "source": [
    "name = \"my name is ozkan and i am 30 years old\"\n",
    "word_list=name.split(\" \")\n",
    "print(*word_list[::-1])"
   ]
  }
 ],
 "metadata": {
  "kernelspec": {
   "display_name": "Python 3 (ipykernel)",
   "language": "python",
   "name": "python3"
  },
  "language_info": {
   "codemirror_mode": {
    "name": "ipython",
    "version": 3
   },
   "file_extension": ".py",
   "mimetype": "text/x-python",
   "name": "python",
   "nbconvert_exporter": "python",
   "pygments_lexer": "ipython3",
   "version": "3.9.13"
  }
 },
 "nbformat": 4,
 "nbformat_minor": 5
}
