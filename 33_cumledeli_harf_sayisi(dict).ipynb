{
 "cells": [
  {
   "cell_type": "code",
   "execution_count": 1,
   "id": "be14a852",
   "metadata": {},
   "outputs": [
    {
     "name": "stdout",
     "output_type": "stream",
     "text": [
      "enter a sentence:hello world\n",
      "{'h': 1, 'e': 1, 'l': 3, 'o': 2, 'w': 1, 'r': 1, 'd': 1}\n"
     ]
    }
   ],
   "source": [
    "sentence = input(\"enter a sentence:\")\n",
    "my_dict = dict()\n",
    "for i in sentence:\n",
    "    if i.isalpha():\n",
    "        if i in my_dict:\n",
    "            my_dict[i] +=1\n",
    "        else:\n",
    "            my_dict[i] = 1\n",
    "print(my_dict)"
   ]
  }
 ],
 "metadata": {
  "kernelspec": {
   "display_name": "Python 3 (ipykernel)",
   "language": "python",
   "name": "python3"
  },
  "language_info": {
   "codemirror_mode": {
    "name": "ipython",
    "version": 3
   },
   "file_extension": ".py",
   "mimetype": "text/x-python",
   "name": "python",
   "nbconvert_exporter": "python",
   "pygments_lexer": "ipython3",
   "version": "3.9.13"
  }
 },
 "nbformat": 4,
 "nbformat_minor": 5
}
