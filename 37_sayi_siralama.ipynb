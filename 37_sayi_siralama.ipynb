{
 "cells": [
  {
   "cell_type": "code",
   "execution_count": 1,
   "id": "86fe8580",
   "metadata": {},
   "outputs": [],
   "source": [
    "list1=[3,13,11,2,1,9,5]"
   ]
  },
  {
   "cell_type": "code",
   "execution_count": 2,
   "id": "7d6492eb",
   "metadata": {},
   "outputs": [
    {
     "name": "stdout",
     "output_type": "stream",
     "text": [
      "[3, 2, 1]\n",
      "[13, 11, 9, 5]\n"
     ]
    }
   ],
   "source": [
    "list2=[]\n",
    "for i in range(0,len(list1)):\n",
    "    if list1[i]<max(list1[i:]):\n",
    "        list2.append(list1[i])\n",
    "print(list2)\n",
    "other = [i for i in list1 if i not in list2]\n",
    "print(other)"
   ]
  },
  {
   "cell_type": "code",
   "execution_count": 3,
   "id": "44dc8d32",
   "metadata": {},
   "outputs": [],
   "source": [
    "new_list1=[5,5,5,5]"
   ]
  },
  {
   "cell_type": "code",
   "execution_count": 4,
   "id": "eecb07fe",
   "metadata": {},
   "outputs": [
    {
     "name": "stdout",
     "output_type": "stream",
     "text": [
      "[]\n",
      "[5, 5, 5, 5]\n"
     ]
    }
   ],
   "source": [
    "new_list2=[]\n",
    "for i in range(0,len(new_list1)):\n",
    "    if new_list1[i]<max(new_list1[i:]):\n",
    "        new_list2.append(new_list1[i])\n",
    "print(new_list2)\n",
    "other = [i for i in new_list1 if i not in new_list2]\n",
    "print(other)"
   ]
  },
  {
   "cell_type": "code",
   "execution_count": 5,
   "id": "f2358748",
   "metadata": {},
   "outputs": [
    {
     "name": "stdout",
     "output_type": "stream",
     "text": [
      "[]\n",
      "{5}\n"
     ]
    }
   ],
   "source": [
    "new_list2=[]\n",
    "for i in range(0,len(new_list1)):\n",
    "    if new_list1[i]<max(new_list1[i:]):\n",
    "        new_list2.append(new_list1[i])\n",
    "print(new_list2)\n",
    "other = {i for i in new_list1 if i not in new_list2}\n",
    "print(other)"
   ]
  },
  {
   "cell_type": "code",
   "execution_count": 6,
   "id": "0dd34fe4",
   "metadata": {},
   "outputs": [
    {
     "name": "stdout",
     "output_type": "stream",
     "text": [
      "[]\n",
      "[5]\n"
     ]
    }
   ],
   "source": [
    "new_list2=[]\n",
    "for i in range(0,len(new_list1)):\n",
    "    if new_list1[i]<max(new_list1[i:]):\n",
    "        new_list2.append(new_list1[i])\n",
    "print(new_list2)\n",
    "other = {i for i in new_list1 if i not in new_list2}\n",
    "print(sorted(list(other)))"
   ]
  },
  {
   "cell_type": "code",
   "execution_count": 7,
   "id": "bd2146e1",
   "metadata": {},
   "outputs": [
    {
     "name": "stdout",
     "output_type": "stream",
     "text": [
      "[]\n",
      "[5]\n"
     ]
    }
   ],
   "source": [
    "new_list2=[]\n",
    "for i in range(0,len(new_list1)):\n",
    "    if new_list1[i]<max(new_list1[i:]):\n",
    "        new_list2.append(new_list1[i])\n",
    "print(new_list2)\n",
    "other = {i for i in new_list1 if i not in new_list2}\n",
    "print(sorted(list(other),reverse= True))"
   ]
  }
 ],
 "metadata": {
  "kernelspec": {
   "display_name": "Python 3 (ipykernel)",
   "language": "python",
   "name": "python3"
  },
  "language_info": {
   "codemirror_mode": {
    "name": "ipython",
    "version": 3
   },
   "file_extension": ".py",
   "mimetype": "text/x-python",
   "name": "python",
   "nbconvert_exporter": "python",
   "pygments_lexer": "ipython3",
   "version": "3.9.13"
  }
 },
 "nbformat": 4,
 "nbformat_minor": 5
}
