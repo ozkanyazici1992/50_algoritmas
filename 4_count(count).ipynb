{
 "cells": [
  {
   "cell_type": "markdown",
   "id": "f555ea55",
   "metadata": {},
   "source": [
    "# count"
   ]
  },
  {
   "cell_type": "code",
   "execution_count": 1,
   "id": "660d8cc5",
   "metadata": {},
   "outputs": [],
   "source": [
    "str_x=\"Mr. Bean is good actor and Mr. Bean is very funny.\"\n",
    "a=str_x.count(\"Mr. Bean\")"
   ]
  },
  {
   "cell_type": "code",
   "execution_count": 2,
   "id": "a7fb2255",
   "metadata": {},
   "outputs": [
    {
     "data": {
      "text/plain": [
       "2"
      ]
     },
     "execution_count": 2,
     "metadata": {},
     "output_type": "execute_result"
    }
   ],
   "source": [
    "a"
   ]
  },
  {
   "cell_type": "code",
   "execution_count": 3,
   "id": "ae780016",
   "metadata": {},
   "outputs": [
    {
     "name": "stdout",
     "output_type": "stream",
     "text": [
      "Mr. Bean appeared 2 times.\n"
     ]
    }
   ],
   "source": [
    "print(\"Mr. Bean appeared {} times.\".format(a))"
   ]
  }
 ],
 "metadata": {
  "kernelspec": {
   "display_name": "Python 3 (ipykernel)",
   "language": "python",
   "name": "python3"
  },
  "language_info": {
   "codemirror_mode": {
    "name": "ipython",
    "version": 3
   },
   "file_extension": ".py",
   "mimetype": "text/x-python",
   "name": "python",
   "nbconvert_exporter": "python",
   "pygments_lexer": "ipython3",
   "version": "3.9.13"
  }
 },
 "nbformat": 4,
 "nbformat_minor": 5
}
