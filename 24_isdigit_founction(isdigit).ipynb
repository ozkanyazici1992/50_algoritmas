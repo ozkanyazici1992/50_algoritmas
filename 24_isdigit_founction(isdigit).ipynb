{
 "cells": [
  {
   "cell_type": "code",
   "execution_count": 1,
   "id": "e3141404",
   "metadata": {},
   "outputs": [
    {
     "name": "stdout",
     "output_type": "stream",
     "text": [
      "enter a number1023\n",
      "1049\n"
     ]
    }
   ],
   "source": [
    "x = input(\"enter a number\")\n",
    "\n",
    "result = \"\"\n",
    "if x.isdigit():\n",
    "    for i in x:\n",
    "        if int(i) <= 3:\n",
    "            result += str(int(i)**2)\n",
    "        elif int(i) % 2:\n",
    "            result += str(int(i) - 2)\n",
    "        else:\n",
    "            result += str(int(i) + 1)\n",
    "else:\n",
    "    print(\"invalid input\")\n",
    "print(result)"
   ]
  }
 ],
 "metadata": {
  "kernelspec": {
   "display_name": "Python 3 (ipykernel)",
   "language": "python",
   "name": "python3"
  },
  "language_info": {
   "codemirror_mode": {
    "name": "ipython",
    "version": 3
   },
   "file_extension": ".py",
   "mimetype": "text/x-python",
   "name": "python",
   "nbconvert_exporter": "python",
   "pygments_lexer": "ipython3",
   "version": "3.9.13"
  }
 },
 "nbformat": 4,
 "nbformat_minor": 5
}
