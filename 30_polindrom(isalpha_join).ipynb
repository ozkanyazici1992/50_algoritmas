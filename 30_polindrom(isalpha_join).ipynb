{
 "cells": [
  {
   "cell_type": "code",
   "execution_count": 1,
   "id": "772b19f7",
   "metadata": {},
   "outputs": [
    {
     "data": {
      "text/plain": [
       "'abc'"
      ]
     },
     "execution_count": 1,
     "metadata": {},
     "output_type": "execute_result"
    }
   ],
   "source": [
    "\"\".join(i for i in \"abc12\" if i.isalpha())"
   ]
  },
  {
   "cell_type": "code",
   "execution_count": 2,
   "id": "7732e5d4",
   "metadata": {},
   "outputs": [
    {
     "data": {
      "text/plain": [
       "'abc'"
      ]
     },
     "execution_count": 2,
     "metadata": {},
     "output_type": "execute_result"
    }
   ],
   "source": [
    "\"\".join(i.lower() for i in \"ABC12\" if i.isalpha())"
   ]
  },
  {
   "cell_type": "code",
   "execution_count": 3,
   "id": "a0ef86f2",
   "metadata": {},
   "outputs": [
    {
     "name": "stdout",
     "output_type": "stream",
     "text": [
      "enter a sentence:en iyi meşe beşe mi yine\n",
      "en iyi meşe beşe mi yine is polindrom\n"
     ]
    }
   ],
   "source": [
    "sentence = input(\"enter a sentence:\")\n",
    "edit_sentence = \"\".join(i.lower() for i in sentence if i.isalpha())\n",
    "if edit_sentence == edit_sentence[::-1]:\n",
    "    print(f\"{sentence} is polindrom\")\n",
    "else:\n",
    "    print(f\"{sentence} is not polindrom\")"
   ]
  },
  {
   "cell_type": "code",
   "execution_count": 4,
   "id": "aeb042ad",
   "metadata": {},
   "outputs": [
    {
     "name": "stdout",
     "output_type": "stream",
     "text": [
      "enter a sentence:Was it a car or a cat I saw\n",
      "Was it a car or a cat I saw is polindrom\n"
     ]
    }
   ],
   "source": [
    "sentence = input(\"enter a sentence:\")\n",
    "edit_sentence = \"\".join(i.lower() for i in sentence if i.isalpha())\n",
    "if edit_sentence == edit_sentence[::-1]:\n",
    "    print(f\"{sentence} is polindrom\")\n",
    "else:\n",
    "    print(f\"{sentence} is not polindrom\")"
   ]
  }
 ],
 "metadata": {
  "kernelspec": {
   "display_name": "Python 3 (ipykernel)",
   "language": "python",
   "name": "python3"
  },
  "language_info": {
   "codemirror_mode": {
    "name": "ipython",
    "version": 3
   },
   "file_extension": ".py",
   "mimetype": "text/x-python",
   "name": "python",
   "nbconvert_exporter": "python",
   "pygments_lexer": "ipython3",
   "version": "3.9.13"
  }
 },
 "nbformat": 4,
 "nbformat_minor": 5
}
