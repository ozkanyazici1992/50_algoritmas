{
 "cells": [
  {
   "cell_type": "code",
   "execution_count": 1,
   "id": "304e445a",
   "metadata": {},
   "outputs": [
    {
     "name": "stdout",
     "output_type": "stream",
     "text": [
      "enter first number:12\n",
      "enter second number:16\n",
      "GCD İS 4 \n"
     ]
    }
   ],
   "source": [
    "num1 = int(input(\"enter first number:\"))\n",
    "num2 = int(input(\"enter second number:\"))\n",
    "i = 1\n",
    "while (i<= num1 and i<=num2):\n",
    "    if (num1 % i == 0 and num2 % i == 0):\n",
    "        gcd = i\n",
    "    i +=1\n",
    "print(f\"GCD İS {gcd} \")"
   ]
  },
  {
   "cell_type": "code",
   "execution_count": 2,
   "id": "eb8ebf9d",
   "metadata": {},
   "outputs": [
    {
     "name": "stdout",
     "output_type": "stream",
     "text": [
      "enter first number:81\n",
      "enter second number:49\n",
      "GCD İS 1 \n"
     ]
    }
   ],
   "source": [
    "num1 = int(input(\"enter first number:\"))\n",
    "num2 = int(input(\"enter second number:\"))\n",
    "i = 1\n",
    "while (i<= num1 and i<=num2):\n",
    "    if (num1 % i == 0 and num2 % i == 0):\n",
    "        gcd = i\n",
    "    i +=1\n",
    "print(f\"GCD İS {gcd} \")"
   ]
  },
  {
   "cell_type": "code",
   "execution_count": 3,
   "id": "a9e20f84",
   "metadata": {},
   "outputs": [
    {
     "name": "stdout",
     "output_type": "stream",
     "text": [
      "enter first number:117\n",
      "enter second number:81\n",
      "GCD İS 9 \n"
     ]
    }
   ],
   "source": [
    "num1 = int(input(\"enter first number:\"))\n",
    "num2 = int(input(\"enter second number:\"))\n",
    "i = 1\n",
    "while (i<= num1 and i<=num2):\n",
    "    if (num1 % i == 0 and num2 % i == 0):\n",
    "        gcd = i\n",
    "    i +=1\n",
    "print(f\"GCD İS {gcd} \")"
   ]
  }
 ],
 "metadata": {
  "kernelspec": {
   "display_name": "Python 3 (ipykernel)",
   "language": "python",
   "name": "python3"
  },
  "language_info": {
   "codemirror_mode": {
    "name": "ipython",
    "version": 3
   },
   "file_extension": ".py",
   "mimetype": "text/x-python",
   "name": "python",
   "nbconvert_exporter": "python",
   "pygments_lexer": "ipython3",
   "version": "3.9.13"
  }
 },
 "nbformat": 4,
 "nbformat_minor": 5
}
