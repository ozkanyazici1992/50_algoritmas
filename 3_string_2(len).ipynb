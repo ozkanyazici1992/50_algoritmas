{
 "cells": [
  {
   "cell_type": "markdown",
   "id": "4ddb0869",
   "metadata": {},
   "source": [
    "# string 2"
   ]
  },
  {
   "cell_type": "code",
   "execution_count": 1,
   "id": "4934ae44",
   "metadata": {},
   "outputs": [
    {
     "name": "stdout",
     "output_type": "stream",
     "text": [
      "enter the your company name:kodland\n",
      "kodand\n"
     ]
    }
   ],
   "source": [
    "company = input(\"enter the your company name:\")\n",
    "if len(company)>= 3:\n",
    "    print(company[:3]+company[-3:])\n",
    "else:\n",
    "    print(\"empty_string\")"
   ]
  },
  {
   "cell_type": "code",
   "execution_count": 2,
   "id": "112b9e98",
   "metadata": {},
   "outputs": [
    {
     "name": "stdout",
     "output_type": "stream",
     "text": [
      "enter the your company name:kodland\n",
      "kodand\n"
     ]
    }
   ],
   "source": [
    "company = input(\"enter the your company name:\")\n",
    "if len(company)>= 3:\n",
    "    print(company[:3]+company[-3:])\n",
    "else:\n",
    "    print(\"empty_string\")"
   ]
  }
 ],
 "metadata": {
  "kernelspec": {
   "display_name": "Python 3 (ipykernel)",
   "language": "python",
   "name": "python3"
  },
  "language_info": {
   "codemirror_mode": {
    "name": "ipython",
    "version": 3
   },
   "file_extension": ".py",
   "mimetype": "text/x-python",
   "name": "python",
   "nbconvert_exporter": "python",
   "pygments_lexer": "ipython3",
   "version": "3.9.13"
  }
 },
 "nbformat": 4,
 "nbformat_minor": 5
}
