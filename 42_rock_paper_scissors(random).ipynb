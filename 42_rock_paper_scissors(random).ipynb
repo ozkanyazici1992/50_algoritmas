{
 "cells": [
  {
   "cell_type": "code",
   "execution_count": 1,
   "id": "5532abe8",
   "metadata": {},
   "outputs": [],
   "source": [
    "import random"
   ]
  },
  {
   "cell_type": "code",
   "execution_count": 2,
   "id": "29447274",
   "metadata": {},
   "outputs": [],
   "source": [
    "x = random.randint(0,2)"
   ]
  },
  {
   "cell_type": "code",
   "execution_count": 3,
   "id": "9998e924",
   "metadata": {},
   "outputs": [
    {
     "data": {
      "text/plain": [
       "2"
      ]
     },
     "execution_count": 3,
     "metadata": {},
     "output_type": "execute_result"
    }
   ],
   "source": [
    "x"
   ]
  },
  {
   "cell_type": "code",
   "execution_count": 4,
   "id": "b9d3c9d6",
   "metadata": {},
   "outputs": [
    {
     "name": "stdout",
     "output_type": "stream",
     "text": [
      "let's play a game\n",
      "do you want a play rock, paper, scissors?(yes or no)yes\n",
      "chose one >> rock, paper or  scissorsrock\n",
      "draw\n",
      "do you want a play rock, paper, scissors?(yes or no)yes\n",
      "chose one >> rock, paper or  scissorsrock\n",
      "pc_win\n",
      "do you want a play rock, paper, scissors?(yes or no)yes\n",
      "chose one >> rock, paper or  scissorsrock\n",
      "draw\n",
      "do you want a play rock, paper, scissors?(yes or no)yes\n",
      "chose one >> rock, paper or  scissorsrock\n",
      "draw\n",
      "do you want a play rock, paper, scissors?(yes or no),\n",
      "game over\n"
     ]
    }
   ],
   "source": [
    "print(\"let's play a game\")\n",
    "a = input(\"do you want a play rock, paper, scissors?(yes or no)\").lower()\n",
    "import random\n",
    "pc_list=[\"rock\",\"paper\",\"scissors\"]\n",
    "while a == \"yes\":\n",
    "    pc = pc_list[random.randint(0,2)]\n",
    "    you = input(\"chose one >> rock, paper or  scissors\").lower()\n",
    "    if(pc == \"rock\" and you == \"scissors\" )or (pc == \"paper\" and you == \"rock\") or (pc == \"scissors\" and you == \"rock\"):\n",
    "        s = \"pc_win\"\n",
    "    elif(pc == \"rock\" and you == \"paper\" )or (pc == \"paper\" and you == \"scissors\") or (pc == \"scissors\" and you == \"rock\"):\n",
    "        s = \"you_win\"\n",
    "    elif(pc == \"rock\" and you == \"rock\" )or (pc == \"paper\" and you == \"paper\") or (pc == \"scissors\" and you == \"scissors\"):\n",
    "        s = \"draw\"\n",
    "    else:\n",
    "        s = \"you entered wrong\"\n",
    "    print(s)\n",
    "    a = input(\"do you want a play rock, paper, scissors?(yes or no)\").lower()\n",
    "print(\"game over\")"
   ]
  },
  {
   "cell_type": "code",
   "execution_count": null,
   "id": "33ad6243",
   "metadata": {},
   "outputs": [],
   "source": []
  }
 ],
 "metadata": {
  "kernelspec": {
   "display_name": "Python 3 (ipykernel)",
   "language": "python",
   "name": "python3"
  },
  "language_info": {
   "codemirror_mode": {
    "name": "ipython",
    "version": 3
   },
   "file_extension": ".py",
   "mimetype": "text/x-python",
   "name": "python",
   "nbconvert_exporter": "python",
   "pygments_lexer": "ipython3",
   "version": "3.9.13"
  }
 },
 "nbformat": 4,
 "nbformat_minor": 5
}
