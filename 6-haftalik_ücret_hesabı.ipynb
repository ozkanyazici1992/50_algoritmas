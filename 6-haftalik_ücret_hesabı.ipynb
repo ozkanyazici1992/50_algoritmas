{
 "cells": [
  {
   "cell_type": "code",
   "execution_count": 1,
   "id": "cb06cbe7",
   "metadata": {},
   "outputs": [
    {
     "name": "stdout",
     "output_type": "stream",
     "text": [
      "enter weekly working hour:30\n",
      "enter your hourly_wage:20\n",
      "your weekly wage is 600\n"
     ]
    }
   ],
   "source": [
    "work_hours = int(input(\"enter weekly working hour:\"))\n",
    "hourly_wage = int(input(\"enter your hourly_wage:\"))\n",
    "if work_hours > 40:\n",
    "    weekly_age =  (work_ours-40)*(1.5*hourly_wage)+40*hourly_wage\n",
    "else:\n",
    "    weekly_age = work_hours*hourly_wage\n",
    "print(f\"your weekly wage is {weekly_age}\")"
   ]
  }
 ],
 "metadata": {
  "kernelspec": {
   "display_name": "Python 3 (ipykernel)",
   "language": "python",
   "name": "python3"
  },
  "language_info": {
   "codemirror_mode": {
    "name": "ipython",
    "version": 3
   },
   "file_extension": ".py",
   "mimetype": "text/x-python",
   "name": "python",
   "nbconvert_exporter": "python",
   "pygments_lexer": "ipython3",
   "version": "3.9.13"
  }
 },
 "nbformat": 4,
 "nbformat_minor": 5
}
