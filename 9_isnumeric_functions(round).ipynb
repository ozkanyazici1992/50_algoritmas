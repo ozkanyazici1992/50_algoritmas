{
 "cells": [
  {
   "cell_type": "code",
   "execution_count": 1,
   "id": "5917e2f4",
   "metadata": {},
   "outputs": [
    {
     "name": "stdout",
     "output_type": "stream",
     "text": [
      "enter country name:Turkey\n",
      "enter the area of the country:783562\n",
      "Turkey is 0.53 % of the total world's landmass\n"
     ]
    }
   ],
   "source": [
    "country = input(\"enter country name:\")\n",
    "area = input(\"enter the area of the country:\")\n",
    "earth = 148940000\n",
    "percentile = round((int(area)/earth)*100,2)\n",
    "print(f\"{country} is {percentile} % of the total world's landmass\")"
   ]
  }
 ],
 "metadata": {
  "kernelspec": {
   "display_name": "Python 3 (ipykernel)",
   "language": "python",
   "name": "python3"
  },
  "language_info": {
   "codemirror_mode": {
    "name": "ipython",
    "version": 3
   },
   "file_extension": ".py",
   "mimetype": "text/x-python",
   "name": "python",
   "nbconvert_exporter": "python",
   "pygments_lexer": "ipython3",
   "version": "3.9.13"
  }
 },
 "nbformat": 4,
 "nbformat_minor": 5
}
