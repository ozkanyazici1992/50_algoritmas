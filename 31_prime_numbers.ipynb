{
 "cells": [
  {
   "cell_type": "code",
   "execution_count": 1,
   "id": "0c336a23",
   "metadata": {},
   "outputs": [
    {
     "name": "stdout",
     "output_type": "stream",
     "text": [
      "enter a number greater than 1:8\n",
      "8 is not prime number\n",
      "8 is not prime number\n",
      "8 is not prime number\n",
      "8 is not prime number\n",
      "8 is not prime number\n",
      "8 is not prime number\n"
     ]
    }
   ],
   "source": [
    "y = int(input(\"enter a number greater than 1:\"))\n",
    "if y>1:\n",
    "    count=0\n",
    "    for i in range(2,y):\n",
    "        if y % i ==0:\n",
    "            count +=1\n",
    "        if count == 0:\n",
    "            print(y,\"is prime number\")\n",
    "        else:\n",
    "            print(y,\"is not prime number\")\n",
    "else:\n",
    "    print(\"check and enter a number greather than 1\")"
   ]
  },
  {
   "cell_type": "code",
   "execution_count": 2,
   "id": "5b4a58cc",
   "metadata": {},
   "outputs": [
    {
     "name": "stdout",
     "output_type": "stream",
     "text": [
      "enter a number greater than 1:7\n",
      "7 is prime number\n",
      "7 is prime number\n",
      "7 is prime number\n",
      "7 is prime number\n",
      "7 is prime number\n"
     ]
    }
   ],
   "source": [
    "y = int(input(\"enter a number greater than 1:\"))\n",
    "if y>1:\n",
    "    count=0\n",
    "    for i in range(2,y):\n",
    "        if y % i ==0:\n",
    "            count +=1\n",
    "        if count == 0:\n",
    "            print(y,\"is prime number\")\n",
    "        else:\n",
    "            print(y,\"is not prime number\")\n",
    "else:\n",
    "    print(\"check and enter a number greather than 1\")"
   ]
  }
 ],
 "metadata": {
  "kernelspec": {
   "display_name": "Python 3 (ipykernel)",
   "language": "python",
   "name": "python3"
  },
  "language_info": {
   "codemirror_mode": {
    "name": "ipython",
    "version": 3
   },
   "file_extension": ".py",
   "mimetype": "text/x-python",
   "name": "python",
   "nbconvert_exporter": "python",
   "pygments_lexer": "ipython3",
   "version": "3.9.13"
  }
 },
 "nbformat": 4,
 "nbformat_minor": 5
}
