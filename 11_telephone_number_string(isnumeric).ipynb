{
 "cells": [
  {
   "cell_type": "code",
   "execution_count": 1,
   "id": "bd1c4f98",
   "metadata": {},
   "outputs": [
    {
     "name": "stdout",
     "output_type": "stream",
     "text": [
      "1112223344\n"
     ]
    }
   ],
   "source": [
    "given_str=\"My phone number is (111) 222-33-44\"\n",
    "output=\"\"\n",
    "for i in given_str:\n",
    "    if i in \"0123456789\":\n",
    "        output += i\n",
    "print(output)"
   ]
  },
  {
   "cell_type": "code",
   "execution_count": 2,
   "id": "49e62452",
   "metadata": {},
   "outputs": [
    {
     "name": "stdout",
     "output_type": "stream",
     "text": [
      "1112223344\n"
     ]
    }
   ],
   "source": [
    "given_str=\"My phone number is (111) 222-33-44\"\n",
    "output=\"\"\n",
    "for i in given_str:\n",
    "    if i.isnumeric():\n",
    "        output += i\n",
    "print(output)"
   ]
  },
  {
   "cell_type": "code",
   "execution_count": 3,
   "id": "c5ae5071",
   "metadata": {},
   "outputs": [
    {
     "name": "stdout",
     "output_type": "stream",
     "text": [
      "05061207874\n"
     ]
    }
   ],
   "source": [
    "given_str=\"My phone number is (0506)-120-78-74\"\n",
    "output=\"\"\n",
    "for i in given_str:\n",
    "    if i.isnumeric():\n",
    "        output += i\n",
    "print(output)"
   ]
  }
 ],
 "metadata": {
  "kernelspec": {
   "display_name": "Python 3 (ipykernel)",
   "language": "python",
   "name": "python3"
  },
  "language_info": {
   "codemirror_mode": {
    "name": "ipython",
    "version": 3
   },
   "file_extension": ".py",
   "mimetype": "text/x-python",
   "name": "python",
   "nbconvert_exporter": "python",
   "pygments_lexer": "ipython3",
   "version": "3.9.13"
  }
 },
 "nbformat": 4,
 "nbformat_minor": 5
}
