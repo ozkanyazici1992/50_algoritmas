{
 "cells": [
  {
   "cell_type": "code",
   "execution_count": 1,
   "id": "b2497bb0",
   "metadata": {},
   "outputs": [
    {
     "name": "stdout",
     "output_type": "stream",
     "text": [
      "True\n"
     ]
    }
   ],
   "source": [
    "def match(check_list):\n",
    "    brackest = []\n",
    "    garbage = []\n",
    "    for i in check_list:\n",
    "        if i in [\"(\" , \"[\" ,\"{\"]:\n",
    "            brackest.append(i)\n",
    "        elif i == \")\" and len(brackest) != 0 and brackest[-1] == \"(\":\n",
    "            brackest.pop()\n",
    "        elif i == \"]\" and len(brackest) != 0 and brackest[-1] == \"[\":\n",
    "            brackest.pop()\n",
    "        elif i == \"}\" and len(brackest) != 0 and brackest[-1] == \"[\":\n",
    "            brackest.pop()\n",
    "        else:\n",
    "            garbage.append(i)\n",
    "    print(brackest == [] and garbage == [])\n",
    "match([\"(\",\")\"])"
   ]
  },
  {
   "cell_type": "code",
   "execution_count": 2,
   "id": "b23e2c38",
   "metadata": {},
   "outputs": [
    {
     "data": {
      "text/plain": [
       "'()[]{}('"
      ]
     },
     "execution_count": 2,
     "metadata": {},
     "output_type": "execute_result"
    }
   ],
   "source": [
    "def match1(check_list):\n",
    "    s = \"\".join([i for i in check_list])\n",
    "    return s\n",
    "match1([\"(\",\")\",\"[\",\"]\",\"{\",\"}\",\"(\"])"
   ]
  },
  {
   "cell_type": "code",
   "execution_count": 3,
   "id": "8973ad28",
   "metadata": {},
   "outputs": [
    {
     "name": "stdout",
     "output_type": "stream",
     "text": [
      "False\n"
     ]
    }
   ],
   "source": [
    "def match1(check_list):\n",
    "    s = \"\".join([i for i in check_list])\n",
    "    while \"()\" in s or \"[]\" in s or \"{}\" in s:\n",
    "        s = s.replace(\"()\",\"\").replace(\"[]\",\"\").replace(\"{}\",\"\")\n",
    "    print(s == \"\")\n",
    "    \n",
    "    \n",
    "    # return s\n",
    "match1([\"(\",\")\",\"[\",\"]\",\"{\",\"}\",\"(\"])"
   ]
  }
 ],
 "metadata": {
  "kernelspec": {
   "display_name": "Python 3 (ipykernel)",
   "language": "python",
   "name": "python3"
  },
  "language_info": {
   "codemirror_mode": {
    "name": "ipython",
    "version": 3
   },
   "file_extension": ".py",
   "mimetype": "text/x-python",
   "name": "python",
   "nbconvert_exporter": "python",
   "pygments_lexer": "ipython3",
   "version": "3.9.13"
  }
 },
 "nbformat": 4,
 "nbformat_minor": 5
}
