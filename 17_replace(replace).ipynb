{
 "cells": [
  {
   "cell_type": "code",
   "execution_count": 1,
   "id": "2ab2ddff",
   "metadata": {},
   "outputs": [
    {
     "name": "stdout",
     "output_type": "stream",
     "text": [
      "resta?t\n"
     ]
    }
   ],
   "source": [
    "text = \"restart\"\n",
    "new_text = text[0]\n",
    "for i in range(1,len(text)):\n",
    "    if text[i] == text[0]:\n",
    "        new_text +=\"?\"\n",
    "    else:\n",
    "        new_text += text[i]\n",
    "print(new_text)"
   ]
  },
  {
   "cell_type": "code",
   "execution_count": 2,
   "id": "3ab3fed8",
   "metadata": {},
   "outputs": [
    {
     "name": "stdout",
     "output_type": "stream",
     "text": [
      "enter a wordrestart\n",
      "esta?t\n",
      "resta?t\n"
     ]
    }
   ],
   "source": [
    "x = input(\"enter a word\")\n",
    "x_new = x.replace(x[0],\"?\")[1:]\n",
    "print(x_new)\n",
    "print(x[0]+x_new)"
   ]
  }
 ],
 "metadata": {
  "kernelspec": {
   "display_name": "Python 3 (ipykernel)",
   "language": "python",
   "name": "python3"
  },
  "language_info": {
   "codemirror_mode": {
    "name": "ipython",
    "version": 3
   },
   "file_extension": ".py",
   "mimetype": "text/x-python",
   "name": "python",
   "nbconvert_exporter": "python",
   "pygments_lexer": "ipython3",
   "version": "3.9.13"
  }
 },
 "nbformat": 4,
 "nbformat_minor": 5
}
