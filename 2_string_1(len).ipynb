{
 "cells": [
  {
   "cell_type": "markdown",
   "id": "f0d65ab7",
   "metadata": {},
   "source": [
    "# string 1"
   ]
  },
  {
   "cell_type": "code",
   "execution_count": 1,
   "id": "053f42a1",
   "metadata": {},
   "outputs": [],
   "source": [
    "s1=\"sarı\"\n",
    "s2=\"mehmet\""
   ]
  },
  {
   "cell_type": "code",
   "execution_count": 2,
   "id": "6d5768cb",
   "metadata": {},
   "outputs": [
    {
     "data": {
      "text/plain": [
       "'sarımehmet'"
      ]
     },
     "execution_count": 2,
     "metadata": {},
     "output_type": "execute_result"
    }
   ],
   "source": [
    "s1+s2"
   ]
  },
  {
   "cell_type": "code",
   "execution_count": 3,
   "id": "53b40ebb",
   "metadata": {},
   "outputs": [
    {
     "data": {
      "text/plain": [
       "'sa'"
      ]
     },
     "execution_count": 3,
     "metadata": {},
     "output_type": "execute_result"
    }
   ],
   "source": [
    "s1[:2]"
   ]
  },
  {
   "cell_type": "code",
   "execution_count": 4,
   "id": "20e7a6c6",
   "metadata": {},
   "outputs": [
    {
     "data": {
      "text/plain": [
       "'rı'"
      ]
     },
     "execution_count": 4,
     "metadata": {},
     "output_type": "execute_result"
    }
   ],
   "source": [
    "s1[2:]"
   ]
  },
  {
   "cell_type": "code",
   "execution_count": 5,
   "id": "73fe0e09",
   "metadata": {},
   "outputs": [
    {
     "data": {
      "text/plain": [
       "2"
      ]
     },
     "execution_count": 5,
     "metadata": {},
     "output_type": "execute_result"
    }
   ],
   "source": [
    "len(s1)//2"
   ]
  },
  {
   "cell_type": "code",
   "execution_count": 6,
   "id": "bcbc8f18",
   "metadata": {},
   "outputs": [
    {
     "data": {
      "text/plain": [
       "'sa'"
      ]
     },
     "execution_count": 6,
     "metadata": {},
     "output_type": "execute_result"
    }
   ],
   "source": [
    "s1[:len(s1)//2]"
   ]
  },
  {
   "cell_type": "code",
   "execution_count": 7,
   "id": "058808bd",
   "metadata": {},
   "outputs": [
    {
     "data": {
      "text/plain": [
       "'rı'"
      ]
     },
     "execution_count": 7,
     "metadata": {},
     "output_type": "execute_result"
    }
   ],
   "source": [
    "s1[len(s1)//2:]"
   ]
  },
  {
   "cell_type": "code",
   "execution_count": 8,
   "id": "7c649872",
   "metadata": {},
   "outputs": [],
   "source": [
    "s3=s1[:len(s1)//2]+s2+s1[len(s1)//2:]"
   ]
  },
  {
   "cell_type": "code",
   "execution_count": 9,
   "id": "4fcccfa7",
   "metadata": {
    "scrolled": true
   },
   "outputs": [
    {
     "data": {
      "text/plain": [
       "'samehmetrı'"
      ]
     },
     "execution_count": 9,
     "metadata": {},
     "output_type": "execute_result"
    }
   ],
   "source": [
    "s3"
   ]
  }
 ],
 "metadata": {
  "kernelspec": {
   "display_name": "Python 3 (ipykernel)",
   "language": "python",
   "name": "python3"
  },
  "language_info": {
   "codemirror_mode": {
    "name": "ipython",
    "version": 3
   },
   "file_extension": ".py",
   "mimetype": "text/x-python",
   "name": "python",
   "nbconvert_exporter": "python",
   "pygments_lexer": "ipython3",
   "version": "3.9.13"
  }
 },
 "nbformat": 4,
 "nbformat_minor": 5
}
