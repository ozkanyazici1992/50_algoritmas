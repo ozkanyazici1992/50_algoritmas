{
 "cells": [
  {
   "cell_type": "code",
   "execution_count": 1,
   "id": "502866d5",
   "metadata": {},
   "outputs": [
    {
     "name": "stdout",
     "output_type": "stream",
     "text": [
      "please enter a number:1184\n",
      "1184 and 1210 are amicable numbers\n"
     ]
    }
   ],
   "source": [
    "x = int(input(\"please enter a number:\"))\n",
    "\n",
    "sum_i=0\n",
    "for i in range(1,x):\n",
    "    if x % i == 0:\n",
    "        sum_i +=i\n",
    "\n",
    "sum_j=0\n",
    "for j in range(1,sum_i):\n",
    "    if sum_i % j == 0:\n",
    "        sum_j +=j\n",
    "if x == sum_j:\n",
    "    print(f\"{x} and {sum_i} are amicable numbers\")\n",
    "else:\n",
    "    print(f\"{x} is lonely number\")"
   ]
  },
  {
   "cell_type": "code",
   "execution_count": 2,
   "id": "01285490",
   "metadata": {},
   "outputs": [
    {
     "name": "stdout",
     "output_type": "stream",
     "text": [
      "please enter a number:1210\n",
      "1210 and 1184 are amicable numbers\n"
     ]
    }
   ],
   "source": [
    "x = int(input(\"please enter a number:\"))\n",
    "\n",
    "sum_i=0\n",
    "for i in range(1,x):\n",
    "    if x % i == 0:\n",
    "        sum_i +=i\n",
    "\n",
    "sum_j=0\n",
    "for j in range(1,sum_i):\n",
    "    if sum_i % j == 0:\n",
    "        sum_j +=j\n",
    "if x == sum_j:\n",
    "    print(f\"{x} and {sum_i} are amicable numbers\")\n",
    "else:\n",
    "    print(f\"{x} is lonely number\")"
   ]
  }
 ],
 "metadata": {
  "kernelspec": {
   "display_name": "Python 3 (ipykernel)",
   "language": "python",
   "name": "python3"
  },
  "language_info": {
   "codemirror_mode": {
    "name": "ipython",
    "version": 3
   },
   "file_extension": ".py",
   "mimetype": "text/x-python",
   "name": "python",
   "nbconvert_exporter": "python",
   "pygments_lexer": "ipython3",
   "version": "3.9.13"
  }
 },
 "nbformat": 4,
 "nbformat_minor": 5
}
