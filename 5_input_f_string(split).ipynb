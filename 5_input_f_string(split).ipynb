{
 "cells": [
  {
   "cell_type": "markdown",
   "id": "74a137c4",
   "metadata": {},
   "source": [
    "# input and f-string"
   ]
  },
  {
   "cell_type": "code",
   "execution_count": 1,
   "id": "d6dcb973",
   "metadata": {},
   "outputs": [
    {
     "data": {
      "text/plain": [
       "['90', '99', '100', '85', '92']"
      ]
     },
     "execution_count": 1,
     "metadata": {},
     "output_type": "execute_result"
    }
   ],
   "source": [
    "score = \"90,99,100,85,92\"\n",
    "score.split(\",\")"
   ]
  },
  {
   "cell_type": "code",
   "execution_count": 2,
   "id": "0190766f",
   "metadata": {},
   "outputs": [
    {
     "name": "stdout",
     "output_type": "stream",
     "text": [
      "Please enter your name,age and job seperating them with commaözkan,29,data scientist\n"
     ]
    }
   ],
   "source": [
    "per = input(\"Please enter your name,age and job seperating them with comma\").split(\",\")"
   ]
  },
  {
   "cell_type": "code",
   "execution_count": 3,
   "id": "4d4d51c3",
   "metadata": {},
   "outputs": [
    {
     "name": "stdout",
     "output_type": "stream",
     "text": [
      "name özkan\n",
      "name 29\n",
      "name data scientist\n"
     ]
    }
   ],
   "source": [
    "print(\"name\",per[0])\n",
    "print(\"name\",per[1])\n",
    "print(\"name\",per[2])"
   ]
  }
 ],
 "metadata": {
  "kernelspec": {
   "display_name": "Python 3 (ipykernel)",
   "language": "python",
   "name": "python3"
  },
  "language_info": {
   "codemirror_mode": {
    "name": "ipython",
    "version": 3
   },
   "file_extension": ".py",
   "mimetype": "text/x-python",
   "name": "python",
   "nbconvert_exporter": "python",
   "pygments_lexer": "ipython3",
   "version": "3.9.13"
  }
 },
 "nbformat": 4,
 "nbformat_minor": 5
}
