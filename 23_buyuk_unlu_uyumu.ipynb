{
 "cells": [
  {
   "cell_type": "code",
   "execution_count": 1,
   "id": "1dc1dc27",
   "metadata": {},
   "outputs": [
    {
     "name": "stdout",
     "output_type": "stream",
     "text": [
      "lütfen isminizi girin:can\n",
      "kalin unlu sayisi:1\n",
      "ince unlu sayisi:0\n",
      "buyuk unlu uyumu aranmaz\n"
     ]
    }
   ],
   "source": [
    "isim = input(\"lütfen isminizi girin:\")\n",
    "kalin_unlu = 0\n",
    "ince_unlu = 0\n",
    "for i in isim:\n",
    "    if i in \"aıou\":\n",
    "        kalin_unlu +=1\n",
    "    elif i in \"eiöü\":\n",
    "        ince_unlu +=1\n",
    "print(f\"kalin unlu sayisi:{kalin_unlu}\")\n",
    "print(f\"ince unlu sayisi:{ince_unlu}\")\n",
    "if kalin_unlu + ince_unlu == 1:\n",
    "    sonuc = \"buyuk unlu uyumu aranmaz\"\n",
    "elif kalin_unlu*ince_unlu == 0:\n",
    "    sonuc = \"buyuk unlu uyumuna uyar\"\n",
    "else:\n",
    "    sonuc = \"buyuk unlu uyumuna uymaz\"\n",
    "print(sonuc)"
   ]
  },
  {
   "cell_type": "code",
   "execution_count": 2,
   "id": "6405187e",
   "metadata": {},
   "outputs": [
    {
     "name": "stdout",
     "output_type": "stream",
     "text": [
      "lütfen isminizi girin:merhaba benim adım ozkan\n",
      "kalin unlu sayisi:6\n",
      "ince unlu sayisi:3\n",
      "buyuk unlu uyumuna uymaz\n"
     ]
    }
   ],
   "source": [
    "isim = input(\"lütfen isminizi girin:\")\n",
    "kalin_unlu = 0\n",
    "ince_unlu = 0\n",
    "for i in isim:\n",
    "    if i in \"aıou\":\n",
    "        kalin_unlu +=1\n",
    "    elif i in \"eiöü\":\n",
    "        ince_unlu +=1\n",
    "print(f\"kalin unlu sayisi:{kalin_unlu}\")\n",
    "print(f\"ince unlu sayisi:{ince_unlu}\")\n",
    "if kalin_unlu + ince_unlu == 1:\n",
    "    sonuc = \"buyuk unlu uyumu aranmaz\"\n",
    "elif kalin_unlu*ince_unlu == 0:\n",
    "    sonuc = \"buyuk unlu uyumuna uyar\"\n",
    "else:\n",
    "    sonuc = \"buyuk unlu uyumuna uymaz\"\n",
    "print(sonuc)"
   ]
  },
  {
   "cell_type": "code",
   "execution_count": 3,
   "id": "d37912a3",
   "metadata": {},
   "outputs": [
    {
     "name": "stdout",
     "output_type": "stream",
     "text": [
      "lütfen isminizi girin:evet ben geldim evime geldim\n",
      "kalin unlu sayisi:0\n",
      "ince unlu sayisi:10\n",
      "buyuk unlu uyumuna uyar\n"
     ]
    }
   ],
   "source": [
    "isim = input(\"lütfen isminizi girin:\")\n",
    "kalin_unlu = 0\n",
    "ince_unlu = 0\n",
    "for i in isim:\n",
    "    if i in \"aıou\":\n",
    "        kalin_unlu +=1\n",
    "    elif i in \"eiöü\":\n",
    "        ince_unlu +=1\n",
    "print(f\"kalin unlu sayisi:{kalin_unlu}\")\n",
    "print(f\"ince unlu sayisi:{ince_unlu}\")\n",
    "if kalin_unlu + ince_unlu == 1:\n",
    "    sonuc = \"buyuk unlu uyumu aranmaz\"\n",
    "elif kalin_unlu*ince_unlu == 0:\n",
    "    sonuc = \"buyuk unlu uyumuna uyar\"\n",
    "else:\n",
    "    sonuc = \"buyuk unlu uyumuna uymaz\"\n",
    "print(sonuc)"
   ]
  }
 ],
 "metadata": {
  "kernelspec": {
   "display_name": "Python 3 (ipykernel)",
   "language": "python",
   "name": "python3"
  },
  "language_info": {
   "codemirror_mode": {
    "name": "ipython",
    "version": 3
   },
   "file_extension": ".py",
   "mimetype": "text/x-python",
   "name": "python",
   "nbconvert_exporter": "python",
   "pygments_lexer": "ipython3",
   "version": "3.9.13"
  }
 },
 "nbformat": 4,
 "nbformat_minor": 5
}
