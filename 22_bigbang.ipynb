{
 "cells": [
  {
   "cell_type": "code",
   "execution_count": 1,
   "id": "12a4d3a0",
   "metadata": {},
   "outputs": [
    {
     "name": "stdout",
     "output_type": "stream",
     "text": [
      "1\n",
      "2\n",
      "Big\n",
      "4\n",
      "5\n",
      "Big\n",
      "Bang\n",
      "8\n",
      "Big\n",
      "10\n",
      "11\n",
      "Big\n",
      "13\n",
      "Bang\n",
      "Big\n",
      "16\n",
      "17\n",
      "Big\n",
      "19\n",
      "20\n",
      "Big\n",
      "22\n",
      "23\n",
      "Big\n",
      "25\n",
      "26\n",
      "Big\n",
      "Bang\n",
      "29\n",
      "Big\n",
      "31\n",
      "32\n",
      "Big\n",
      "34\n",
      "Bang\n",
      "Big\n",
      "37\n",
      "38\n",
      "Big\n",
      "40\n",
      "41\n",
      "Big\n",
      "43\n",
      "44\n",
      "Big\n",
      "46\n",
      "47\n",
      "Big\n",
      "Bang\n",
      "50\n"
     ]
    }
   ],
   "source": [
    "for i in range(1,51):\n",
    "    if i % 3 == 0 and i ==7 :\n",
    "        print(\"BigBang\")\n",
    "    elif i % 3 == 0:\n",
    "        print(\"Big\")\n",
    "    elif i % 7 == 0:\n",
    "        print(\"Bang\")\n",
    "    else:\n",
    "        print(i)"
   ]
  }
 ],
 "metadata": {
  "kernelspec": {
   "display_name": "Python 3 (ipykernel)",
   "language": "python",
   "name": "python3"
  },
  "language_info": {
   "codemirror_mode": {
    "name": "ipython",
    "version": 3
   },
   "file_extension": ".py",
   "mimetype": "text/x-python",
   "name": "python",
   "nbconvert_exporter": "python",
   "pygments_lexer": "ipython3",
   "version": "3.9.13"
  }
 },
 "nbformat": 4,
 "nbformat_minor": 5
}
