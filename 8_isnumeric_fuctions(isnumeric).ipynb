{
 "cells": [
  {
   "cell_type": "code",
   "execution_count": 1,
   "id": "61e44634",
   "metadata": {},
   "outputs": [
    {
     "name": "stdout",
     "output_type": "stream",
     "text": [
      "please enter a number:3\n",
      "please enter a number:5\n",
      "<class 'int'>\n",
      "8\n"
     ]
    }
   ],
   "source": [
    "x = input(\"please enter a number:\")\n",
    "y = input(\"please enter a number:\")\n",
    "if x.isnumeric() and y.isnumeric():\n",
    "    a = int(x)+int(y)\n",
    "else:\n",
    "    a = \"you have not entered number\"\n",
    "print(type(a))\n",
    "print(a)"
   ]
  },
  {
   "cell_type": "code",
   "execution_count": 2,
   "id": "e3c8c6b7",
   "metadata": {},
   "outputs": [
    {
     "name": "stdout",
     "output_type": "stream",
     "text": [
      "please enter a number:8y\n",
      "please enter a number:3\n",
      "<class 'str'>\n",
      "you have not entered number\n"
     ]
    }
   ],
   "source": [
    "x = input(\"please enter a number:\")\n",
    "y = input(\"please enter a number:\")\n",
    "if x.isnumeric() and y.isnumeric():\n",
    "    a = int(x)+int(y)\n",
    "else:\n",
    "    a = \"you have not entered number\"\n",
    "print(type(a))\n",
    "print(a)"
   ]
  }
 ],
 "metadata": {
  "kernelspec": {
   "display_name": "Python 3 (ipykernel)",
   "language": "python",
   "name": "python3"
  },
  "language_info": {
   "codemirror_mode": {
    "name": "ipython",
    "version": 3
   },
   "file_extension": ".py",
   "mimetype": "text/x-python",
   "name": "python",
   "nbconvert_exporter": "python",
   "pygments_lexer": "ipython3",
   "version": "3.9.13"
  }
 },
 "nbformat": 4,
 "nbformat_minor": 5
}
