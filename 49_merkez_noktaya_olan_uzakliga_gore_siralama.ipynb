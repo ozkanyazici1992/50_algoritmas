{
 "cells": [
  {
   "cell_type": "code",
   "execution_count": 1,
   "id": "0b210fef",
   "metadata": {},
   "outputs": [
    {
     "data": {
      "text/plain": [
       "[3.605551275463989, 1.4142135623730951, 3.605551275463989]"
      ]
     },
     "execution_count": 1,
     "metadata": {},
     "output_type": "execute_result"
    }
   ],
   "source": [
    "def nearist_points(list1,cen,k):\n",
    "    result = []\n",
    "    for i in list1:\n",
    "        a = ((i[0] - cen[0]) ** 2 + (i[1] - cen[1]) **2)** 0.5\n",
    "        result.append(a)\n",
    "      \n",
    "    return(result)\n",
    "nearist_points([(1,3),(5,2),(2,4)],(4,1),2)"
   ]
  },
  {
   "cell_type": "code",
   "execution_count": 2,
   "id": "bf061ea3",
   "metadata": {},
   "outputs": [
    {
     "data": {
      "text/plain": [
       "[1.4142135623730951, 3.605551275463989]"
      ]
     },
     "execution_count": 2,
     "metadata": {},
     "output_type": "execute_result"
    }
   ],
   "source": [
    "def nearist_points(list1,cen,k):\n",
    "    result = []\n",
    "    for i in list1:\n",
    "        a = ((i[0] - cen[0]) ** 2 + (i[1] - cen[1]) **2)** 0.5\n",
    "        result.append(a)\n",
    "      \n",
    "    return sorted(result)[:2]\n",
    "nearist_points([(1,3),(5,2),(2,4)],(4,1),2)"
   ]
  },
  {
   "cell_type": "code",
   "execution_count": 3,
   "id": "98129469",
   "metadata": {},
   "outputs": [
    {
     "data": {
      "text/plain": [
       "[(5, 2), (1, 3)]"
      ]
     },
     "execution_count": 3,
     "metadata": {},
     "output_type": "execute_result"
    }
   ],
   "source": [
    "def nearist_points(list1,cen,k):\n",
    "    result = []\n",
    "    for i in list1:\n",
    "        a = ((i[0] - cen[0]) ** 2 + (i[1] - cen[1]) **2)** 0.5\n",
    "        result.append([a,i])\n",
    "    return [  v for k,v in sorted(result)[:k]]  \n",
    "nearist_points([(1,3),(5,2),(2,4)],(4,1),2)"
   ]
  }
 ],
 "metadata": {
  "kernelspec": {
   "display_name": "Python 3 (ipykernel)",
   "language": "python",
   "name": "python3"
  },
  "language_info": {
   "codemirror_mode": {
    "name": "ipython",
    "version": 3
   },
   "file_extension": ".py",
   "mimetype": "text/x-python",
   "name": "python",
   "nbconvert_exporter": "python",
   "pygments_lexer": "ipython3",
   "version": "3.9.13"
  }
 },
 "nbformat": 4,
 "nbformat_minor": 5
}
