{
 "cells": [
  {
   "cell_type": "code",
   "execution_count": 1,
   "id": "5925e0a1",
   "metadata": {},
   "outputs": [
    {
     "name": "stdout",
     "output_type": "stream",
     "text": [
      "enter a number:1\n",
      "enter a number:10\n",
      "[1, 2, 3, 4, 5, 6, 7, 8, 9]\n",
      "1\n"
     ]
    }
   ],
   "source": [
    "n1 = int(input(\"enter a number:\"))\n",
    "n2 = int(input(\"enter a number:\"))\n",
    "\n",
    "if n1<n2:\n",
    "    print(list(range(n1,n2)))\n",
    "if n1>n2:\n",
    "    print(list(range(n1,n2,-1)))\n",
    "else:\n",
    "    print(n1)"
   ]
  },
  {
   "cell_type": "code",
   "execution_count": 2,
   "id": "ef75e760",
   "metadata": {},
   "outputs": [
    {
     "name": "stdout",
     "output_type": "stream",
     "text": [
      "enter a number:10\n",
      "enter a number:1\n",
      "[10, 9, 8, 7, 6, 5, 4, 3, 2]\n"
     ]
    }
   ],
   "source": [
    "n1 = int(input(\"enter a number:\"))\n",
    "n2 = int(input(\"enter a number:\"))\n",
    "\n",
    "if n1<n2:\n",
    "    print(list(range(n1,n2)))\n",
    "if n1>n2:\n",
    "    print(list(range(n1,n2,-1)))\n",
    "else:\n",
    "    print(n1)"
   ]
  },
  {
   "cell_type": "code",
   "execution_count": 3,
   "id": "4bbaccc5",
   "metadata": {},
   "outputs": [
    {
     "name": "stdout",
     "output_type": "stream",
     "text": [
      "enter a number:10\n",
      "enter a number:10\n",
      "10\n"
     ]
    }
   ],
   "source": [
    "n1 = int(input(\"enter a number:\"))\n",
    "n2 = int(input(\"enter a number:\"))\n",
    "\n",
    "if n1<n2:\n",
    "    print(list(range(n1,n2)))\n",
    "if n1>n2:\n",
    "    print(list(range(n1,n2,-1)))\n",
    "else:\n",
    "    print(n1)"
   ]
  }
 ],
 "metadata": {
  "kernelspec": {
   "display_name": "Python 3 (ipykernel)",
   "language": "python",
   "name": "python3"
  },
  "language_info": {
   "codemirror_mode": {
    "name": "ipython",
    "version": 3
   },
   "file_extension": ".py",
   "mimetype": "text/x-python",
   "name": "python",
   "nbconvert_exporter": "python",
   "pygments_lexer": "ipython3",
   "version": "3.9.13"
  }
 },
 "nbformat": 4,
 "nbformat_minor": 5
}
