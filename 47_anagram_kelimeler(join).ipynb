{
 "cells": [
  {
   "cell_type": "code",
   "execution_count": 1,
   "id": "d73f9792",
   "metadata": {},
   "outputs": [
    {
     "name": "stdout",
     "output_type": "stream",
     "text": [
      "[['eat', 'tea', 'eat'], ['tan', 'nat'], ['bat']]\n"
     ]
    }
   ],
   "source": [
    "list1 = [\"eat\" , \"tea\" , \"tan\" , \"eat\" , \"nat\" , \"bat\"]\n",
    "result = {}\n",
    "for item in list1:\n",
    "    x =\"\".join(sorted(item))\n",
    "    if x not in result:\n",
    "        result[x] = [item]\n",
    "    else:\n",
    "        result[x].append(item)\n",
    "print(list(result.values()))"
   ]
  }
 ],
 "metadata": {
  "kernelspec": {
   "display_name": "Python 3 (ipykernel)",
   "language": "python",
   "name": "python3"
  },
  "language_info": {
   "codemirror_mode": {
    "name": "ipython",
    "version": 3
   },
   "file_extension": ".py",
   "mimetype": "text/x-python",
   "name": "python",
   "nbconvert_exporter": "python",
   "pygments_lexer": "ipython3",
   "version": "3.9.13"
  }
 },
 "nbformat": 4,
 "nbformat_minor": 5
}
