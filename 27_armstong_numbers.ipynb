{
 "cells": [
  {
   "cell_type": "code",
   "execution_count": 1,
   "id": "c0ae5de9",
   "metadata": {},
   "outputs": [
    {
     "name": "stdout",
     "output_type": "stream",
     "text": [
      "enter a number153\n",
      "153 is armstong number\n"
     ]
    }
   ],
   "source": [
    "num = input(\"enter a number\")\n",
    "len_num = len(num)\n",
    "sum_ = 0\n",
    "for i in num:\n",
    "    sum_ += int(i) ** len_num\n",
    "if sum_ == int(num):\n",
    "    print(num,\"is armstong number\")\n",
    "else:\n",
    "    print(num,\"is not armstong number\")"
   ]
  },
  {
   "cell_type": "code",
   "execution_count": 2,
   "id": "65332f62",
   "metadata": {},
   "outputs": [
    {
     "name": "stdout",
     "output_type": "stream",
     "text": [
      "enter a number371\n",
      "371 is armstong number\n"
     ]
    }
   ],
   "source": [
    "num = input(\"enter a number\")\n",
    "len_num = len(num)\n",
    "sum_ = 0\n",
    "for i in num:\n",
    "    sum_ += int(i) ** len_num\n",
    "if sum_ == int(num):\n",
    "    print(num,\"is armstong number\")\n",
    "else:\n",
    "    print(num,\"is not armstong number\")"
   ]
  }
 ],
 "metadata": {
  "kernelspec": {
   "display_name": "Python 3 (ipykernel)",
   "language": "python",
   "name": "python3"
  },
  "language_info": {
   "codemirror_mode": {
    "name": "ipython",
    "version": 3
   },
   "file_extension": ".py",
   "mimetype": "text/x-python",
   "name": "python",
   "nbconvert_exporter": "python",
   "pygments_lexer": "ipython3",
   "version": "3.9.13"
  }
 },
 "nbformat": 4,
 "nbformat_minor": 5
}
