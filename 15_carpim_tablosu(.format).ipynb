{
 "cells": [
  {
   "cell_type": "code",
   "execution_count": 1,
   "id": "7c4c0f08",
   "metadata": {},
   "outputs": [
    {
     "name": "stdout",
     "output_type": "stream",
     "text": [
      "enter a number:5\n",
      "5 * 0 = 0\n",
      "5 * 1 = 5\n",
      "5 * 2 = 10\n",
      "5 * 3 = 15\n",
      "5 * 4 = 20\n",
      "5 * 5 = 25\n",
      "5 * 6 = 30\n",
      "5 * 7 = 35\n",
      "5 * 8 = 40\n",
      "5 * 9 = 45\n",
      "5 * 10 = 50\n"
     ]
    }
   ],
   "source": [
    "a = int(input(\"enter a number:\"))\n",
    "for i in range(11):\n",
    "    print(f\"{a} * {i} = {a*i}\")"
   ]
  },
  {
   "cell_type": "code",
   "execution_count": 2,
   "id": "fe212a59",
   "metadata": {},
   "outputs": [
    {
     "name": "stdout",
     "output_type": "stream",
     "text": [
      "enter a number:5\n",
      "5 * 0 =  0\n",
      "5 * 1 =  5\n",
      "5 * 2 =  10\n",
      "5 * 3 =  15\n",
      "5 * 4 =  20\n",
      "5 * 5 =  25\n",
      "5 * 6 =  30\n",
      "5 * 7 =  35\n",
      "5 * 8 =  40\n",
      "5 * 9 =  45\n",
      "5 * 10 =  50\n"
     ]
    }
   ],
   "source": [
    "a = int(input(\"enter a number:\"))\n",
    "for i in range(11):\n",
    "    print(\"{} * {} = \".format(a,i),a*i)"
   ]
  }
 ],
 "metadata": {
  "kernelspec": {
   "display_name": "Python 3 (ipykernel)",
   "language": "python",
   "name": "python3"
  },
  "language_info": {
   "codemirror_mode": {
    "name": "ipython",
    "version": 3
   },
   "file_extension": ".py",
   "mimetype": "text/x-python",
   "name": "python",
   "nbconvert_exporter": "python",
   "pygments_lexer": "ipython3",
   "version": "3.9.13"
  }
 },
 "nbformat": 4,
 "nbformat_minor": 5
}
