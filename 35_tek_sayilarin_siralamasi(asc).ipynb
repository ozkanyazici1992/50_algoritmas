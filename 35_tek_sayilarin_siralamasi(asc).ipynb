{
 "cells": [
  {
   "cell_type": "code",
   "execution_count": 1,
   "id": "cb44c203",
   "metadata": {},
   "outputs": [],
   "source": [
    "list1=[5,8,6,3,4]"
   ]
  },
  {
   "cell_type": "code",
   "execution_count": 2,
   "id": "5d100df8",
   "metadata": {},
   "outputs": [],
   "source": [
    "def asc(list1):\n",
    "    odd = [i for i in list1 if i % 2]\n",
    "    odd = sorted(odd)\n",
    "    return odd"
   ]
  },
  {
   "cell_type": "code",
   "execution_count": 3,
   "id": "f6ebaeab",
   "metadata": {},
   "outputs": [
    {
     "data": {
      "text/plain": [
       "[3, 5]"
      ]
     },
     "execution_count": 3,
     "metadata": {},
     "output_type": "execute_result"
    }
   ],
   "source": [
    "asc([5,8,6,3,4])"
   ]
  },
  {
   "cell_type": "code",
   "execution_count": 4,
   "id": "317eea4b",
   "metadata": {},
   "outputs": [],
   "source": [
    "def asc(list1):\n",
    "    odd = [i for i in list1 if i % 2]\n",
    "    odd = sorted(odd)\n",
    "   \n",
    "    k = 0\n",
    "    result=[]\n",
    "    for i in list1:\n",
    "        if i %2:\n",
    "            result.append(odd[k])\n",
    "            k += 1\n",
    "        else:\n",
    "            result.append(i)\n",
    "    return result"
   ]
  },
  {
   "cell_type": "code",
   "execution_count": 5,
   "id": "15109dc7",
   "metadata": {
    "scrolled": true
   },
   "outputs": [
    {
     "data": {
      "text/plain": [
       "[3, 8, 6, 5, 4]"
      ]
     },
     "execution_count": 5,
     "metadata": {},
     "output_type": "execute_result"
    }
   ],
   "source": [
    "asc([5,8,6,3,4])"
   ]
  }
 ],
 "metadata": {
  "kernelspec": {
   "display_name": "Python 3 (ipykernel)",
   "language": "python",
   "name": "python3"
  },
  "language_info": {
   "codemirror_mode": {
    "name": "ipython",
    "version": 3
   },
   "file_extension": ".py",
   "mimetype": "text/x-python",
   "name": "python",
   "nbconvert_exporter": "python",
   "pygments_lexer": "ipython3",
   "version": "3.9.13"
  }
 },
 "nbformat": 4,
 "nbformat_minor": 5
}
