{
 "cells": [
  {
   "cell_type": "code",
   "execution_count": 1,
   "id": "1433120c",
   "metadata": {},
   "outputs": [
    {
     "name": "stdout",
     "output_type": "stream",
     "text": [
      "0 and 3\n",
      "1 and 2\n",
      "2 and 1\n",
      "3 and 0\n",
      "4 and 5\n",
      "5 and 4\n"
     ]
    }
   ],
   "source": [
    "def target(list1,target_num):\n",
    "    a = []\n",
    "    b = []\n",
    "    for i in list1:\n",
    "        for j in list1:\n",
    "            if i + j == target_num:\n",
    "                a.append(list1.index(i))\n",
    "                b.append(list1.index(j))\n",
    "            \n",
    "    k = 0 \n",
    "    while k < len(a):\n",
    "        print(f\"{a[k]} and {b[k]}\" )\n",
    "        k +=1\n",
    "target([2,8,9,15,5,12],17)"
   ]
  },
  {
   "cell_type": "code",
   "execution_count": 2,
   "id": "b7c26c93",
   "metadata": {},
   "outputs": [
    {
     "data": {
      "text/plain": [
       "[[0, 3], [1, 2], [2, 1], [3, 0], [4, 5], [5, 4]]"
      ]
     },
     "execution_count": 2,
     "metadata": {},
     "output_type": "execute_result"
    }
   ],
   "source": [
    "def target(list1,target_num):\n",
    "    a = []\n",
    "    for i in list1:\n",
    "        for j in list1:\n",
    "            if i + j == target_num:\n",
    "                a.append([list1.index(i),list1.index(j)])               \n",
    "            \n",
    "    return a\n",
    "target([2,8,9,15,5,12],17)"
   ]
  },
  {
   "cell_type": "code",
   "execution_count": 3,
   "id": "5b6b5bb1",
   "metadata": {},
   "outputs": [
    {
     "data": {
      "text/plain": [
       "[[0, 3], [1, 2], [2, 1], [3, 0], [4, 5], [5, 4]]"
      ]
     },
     "execution_count": 3,
     "metadata": {},
     "output_type": "execute_result"
    }
   ],
   "source": [
    "def target(list1,target_num):\n",
    "    return [[list1.index(i),list1.index(j)] for i in list1 for j in list1 if i + j == target_num]\n",
    "target([2,8,9,15,5,12],17)"
   ]
  }
 ],
 "metadata": {
  "kernelspec": {
   "display_name": "Python 3 (ipykernel)",
   "language": "python",
   "name": "python3"
  },
  "language_info": {
   "codemirror_mode": {
    "name": "ipython",
    "version": 3
   },
   "file_extension": ".py",
   "mimetype": "text/x-python",
   "name": "python",
   "nbconvert_exporter": "python",
   "pygments_lexer": "ipython3",
   "version": "3.9.13"
  }
 },
 "nbformat": 4,
 "nbformat_minor": 5
}
