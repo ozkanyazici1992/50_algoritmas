{
 "cells": [
  {
   "cell_type": "code",
   "execution_count": 1,
   "id": "d58d0ef6",
   "metadata": {},
   "outputs": [
    {
     "data": {
      "text/plain": [
       "[(0, '1'), (1, '5'), (2, '7'), (3, '0')]"
      ]
     },
     "execution_count": 1,
     "metadata": {},
     "output_type": "execute_result"
    }
   ],
   "source": [
    "number = \"1570\"\n",
    "list(enumerate(number))"
   ]
  },
  {
   "cell_type": "code",
   "execution_count": 2,
   "id": "5341a691",
   "metadata": {},
   "outputs": [
    {
     "name": "stdout",
     "output_type": "stream",
     "text": [
      "enter a 4 digit:1570\n",
      "1570 has 4, 0 bull\n",
      "congrats. Number of try : 1\n"
     ]
    }
   ],
   "source": [
    "number = \"1570\"\n",
    "cow, bull = 0,0\n",
    "count = 0\n",
    "while cow<len(number):\n",
    "    guess = input(\"enter a 4 digit:\")\n",
    "    \n",
    "    for ind,i in enumerate(guess):\n",
    "        if i in number:\n",
    "            if ind == number.index(i):\n",
    "                cow +=1\n",
    "            else:\n",
    "                bull +=1\n",
    "    count +=1\n",
    "    print(f\"{guess} has {cow}, {bull} bull\")\n",
    "print(f\"congrats. Number of try : {count}\")"
   ]
  },
  {
   "cell_type": "code",
   "execution_count": 3,
   "id": "0a3d83ba",
   "metadata": {},
   "outputs": [
    {
     "data": {
      "text/plain": [
       "'4319'"
      ]
     },
     "execution_count": 3,
     "metadata": {},
     "output_type": "execute_result"
    }
   ],
   "source": [
    "import random\n",
    "\"\".join(random.sample(\"0123456789\",4))"
   ]
  },
  {
   "cell_type": "code",
   "execution_count": null,
   "id": "0d91d864",
   "metadata": {},
   "outputs": [],
   "source": [
    "import random\n",
    "number = \"\".join(random.sample(\"0123456789\",4))\n",
    "cow, bull = 0,0\n",
    "count = 0\n",
    "while cow<len(number):\n",
    "    guess = input(\"enter a 4 digit:\")\n",
    "    \n",
    "    for ind,i in enumerate(guess):\n",
    "        if i in number:\n",
    "            if ind == number.index(i):\n",
    "                cow +=1\n",
    "            else:\n",
    "                bull +=1\n",
    "    count +=1\n",
    "    print(f\"{guess} has {cow}, {bull} bull\")\n",
    "print(f\"congrats. Number of try : {count}\")"
   ]
  }
 ],
 "metadata": {
  "kernelspec": {
   "display_name": "Python 3 (ipykernel)",
   "language": "python",
   "name": "python3"
  },
  "language_info": {
   "codemirror_mode": {
    "name": "ipython",
    "version": 3
   },
   "file_extension": ".py",
   "mimetype": "text/x-python",
   "name": "python",
   "nbconvert_exporter": "python",
   "pygments_lexer": "ipython3",
   "version": "3.9.13"
  }
 },
 "nbformat": 4,
 "nbformat_minor": 5
}
