{
 "cells": [
  {
   "cell_type": "code",
   "execution_count": 1,
   "id": "b431ecfd",
   "metadata": {},
   "outputs": [
    {
     "data": {
      "text/plain": [
       "[1000, 400, 50, 3]"
      ]
     },
     "execution_count": 1,
     "metadata": {},
     "output_type": "execute_result"
    }
   ],
   "source": [
    "def num_split(num):\n",
    "    count = 0\n",
    "    result=[]\n",
    "    for i in str(abs(num))[::-1]:\n",
    "        result.append(int(i)*10**count)\n",
    "        count+=1\n",
    "    result2=[]\n",
    "    if num<0:\n",
    "        for i in result[::-1]:\n",
    "            result2.append(-i)\n",
    "    else:\n",
    "        result2 = result[::-1]\n",
    "        \n",
    "    return result2\n",
    "num_split(1453)"
   ]
  },
  {
   "cell_type": "code",
   "execution_count": 2,
   "id": "6c266d08",
   "metadata": {},
   "outputs": [
    {
     "data": {
      "text/plain": [
       "[10000, 8000, 900, 50, 7]"
      ]
     },
     "execution_count": 2,
     "metadata": {},
     "output_type": "execute_result"
    }
   ],
   "source": [
    "num_split(18957)"
   ]
  },
  {
   "cell_type": "code",
   "execution_count": 1,
   "id": "2e315e1a",
   "metadata": {},
   "outputs": [],
   "source": [
    "def num_split(num):\n",
    "    count = 0\n",
    "    result=[]\n",
    "    for i in str(abs(num))[::-1]:\n",
    "        result.append(int(i)*10**count)\n",
    "        count+=1\n",
    "    return result[::-1] if num >=0 else [-i for i in result[::-1]]"
   ]
  },
  {
   "cell_type": "code",
   "execution_count": 2,
   "id": "af394775",
   "metadata": {},
   "outputs": [
    {
     "data": {
      "text/plain": [
       "[-1000, -400, -50, -3]"
      ]
     },
     "execution_count": 2,
     "metadata": {},
     "output_type": "execute_result"
    }
   ],
   "source": [
    "num_split(-1453)"
   ]
  },
  {
   "cell_type": "code",
   "execution_count": null,
   "id": "a5c98b66",
   "metadata": {},
   "outputs": [],
   "source": []
  }
 ],
 "metadata": {
  "kernelspec": {
   "display_name": "Python 3 (ipykernel)",
   "language": "python",
   "name": "python3"
  },
  "language_info": {
   "codemirror_mode": {
    "name": "ipython",
    "version": 3
   },
   "file_extension": ".py",
   "mimetype": "text/x-python",
   "name": "python",
   "nbconvert_exporter": "python",
   "pygments_lexer": "ipython3",
   "version": "3.9.13"
  }
 },
 "nbformat": 4,
 "nbformat_minor": 5
}
