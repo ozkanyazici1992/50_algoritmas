{
 "cells": [
  {
   "cell_type": "code",
   "execution_count": 1,
   "id": "d6c702cc",
   "metadata": {},
   "outputs": [],
   "source": [
    "list1=[(\"john\",1),(\"jade\",2),(\"lisa\",3),(\"rose\",4),(\"louie\",0)]"
   ]
  },
  {
   "cell_type": "code",
   "execution_count": 2,
   "id": "4674027f",
   "metadata": {},
   "outputs": [
    {
     "data": {
      "text/plain": [
       "[('john', 1), ('jade', 2), ('lisa', 3), ('rose', 4), ('louie', 0)]"
      ]
     },
     "execution_count": 2,
     "metadata": {},
     "output_type": "execute_result"
    }
   ],
   "source": [
    "list1"
   ]
  },
  {
   "cell_type": "code",
   "execution_count": 3,
   "id": "b9029df9",
   "metadata": {},
   "outputs": [
    {
     "data": {
      "text/plain": [
       "('jade', 2)"
      ]
     },
     "execution_count": 3,
     "metadata": {},
     "output_type": "execute_result"
    }
   ],
   "source": [
    "list1[1]"
   ]
  },
  {
   "cell_type": "code",
   "execution_count": 4,
   "id": "29c745f1",
   "metadata": {},
   "outputs": [
    {
     "data": {
      "text/plain": [
       "2"
      ]
     },
     "execution_count": 4,
     "metadata": {},
     "output_type": "execute_result"
    }
   ],
   "source": [
    "list1[1][1]"
   ]
  },
  {
   "cell_type": "code",
   "execution_count": 5,
   "id": "5c411aac",
   "metadata": {},
   "outputs": [
    {
     "name": "stdout",
     "output_type": "stream",
     "text": [
      "[('louie', 0), ('john', 1), ('jade', 2), ('lisa', 3), ('rose', 4)]\n"
     ]
    }
   ],
   "source": [
    "result=[]\n",
    "for i in range(len(list1)):\n",
    "    for j in list1:\n",
    "        if j[1]==i:\n",
    "            result.append(j)\n",
    "print(result)"
   ]
  },
  {
   "cell_type": "code",
   "execution_count": 6,
   "id": "b2f62172",
   "metadata": {},
   "outputs": [
    {
     "name": "stdout",
     "output_type": "stream",
     "text": [
      "30\n"
     ]
    }
   ],
   "source": [
    "x = lambda a,b : a*b\n",
    "print(x(5,6))"
   ]
  },
  {
   "cell_type": "code",
   "execution_count": 7,
   "id": "33e10add",
   "metadata": {},
   "outputs": [
    {
     "name": "stdout",
     "output_type": "stream",
     "text": [
      "10\n"
     ]
    }
   ],
   "source": [
    "x = lambda a,b=2 : a*b\n",
    "print(x(5))"
   ]
  },
  {
   "cell_type": "code",
   "execution_count": 8,
   "id": "840bd6b5",
   "metadata": {},
   "outputs": [
    {
     "data": {
      "text/plain": [
       "[('louie', 0), ('john', 1), ('jade', 2), ('lisa', 3), ('rose', 4)]"
      ]
     },
     "execution_count": 8,
     "metadata": {},
     "output_type": "execute_result"
    }
   ],
   "source": [
    "sorted(list1,key = lambda x : x[1])"
   ]
  },
  {
   "cell_type": "code",
   "execution_count": 9,
   "id": "562eec72",
   "metadata": {},
   "outputs": [],
   "source": [
    "list2=[(\"ali\",1),(\"veli\",2),(\"ahmet\",3),(\"ayse\",4),(\"cansu\",6)]"
   ]
  },
  {
   "cell_type": "code",
   "execution_count": 10,
   "id": "e6a8c75c",
   "metadata": {},
   "outputs": [
    {
     "name": "stdout",
     "output_type": "stream",
     "text": [
      "[('ali', 1), ('veli', 2), ('ahmet', 3), ('ayse', 4)]\n"
     ]
    }
   ],
   "source": [
    "result=[]\n",
    "for i in range(len(list2)):\n",
    "    for j in list2:\n",
    "        if j[1]==i:\n",
    "            result.append(j)\n",
    "print(result)"
   ]
  },
  {
   "cell_type": "code",
   "execution_count": 11,
   "id": "98f2e420",
   "metadata": {},
   "outputs": [
    {
     "data": {
      "text/plain": [
       "[('ali', 1), ('veli', 2), ('ahmet', 3), ('ayse', 4), ('cansu', 6)]"
      ]
     },
     "execution_count": 11,
     "metadata": {},
     "output_type": "execute_result"
    }
   ],
   "source": [
    "sorted(list2,key = lambda x : x[1])"
   ]
  }
 ],
 "metadata": {
  "kernelspec": {
   "display_name": "Python 3 (ipykernel)",
   "language": "python",
   "name": "python3"
  },
  "language_info": {
   "codemirror_mode": {
    "name": "ipython",
    "version": 3
   },
   "file_extension": ".py",
   "mimetype": "text/x-python",
   "name": "python",
   "nbconvert_exporter": "python",
   "pygments_lexer": "ipython3",
   "version": "3.9.13"
  }
 },
 "nbformat": 4,
 "nbformat_minor": 5
}
