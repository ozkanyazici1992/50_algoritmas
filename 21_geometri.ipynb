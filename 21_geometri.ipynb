{
 "cells": [
  {
   "cell_type": "code",
   "execution_count": 1,
   "id": "3ed7c1f0",
   "metadata": {},
   "outputs": [
    {
     "name": "stdout",
     "output_type": "stream",
     "text": [
      "enter r value:9\n",
      "the difference is 162\n"
     ]
    }
   ],
   "source": [
    "r = int(input(\"enter r value:\"))\n",
    "out_square = (2*r)**2\n",
    "in_square = (r**2)*2\n",
    "diff_square = ((2*r)**2 - (r**2)*2)\n",
    "print(f\"the difference is {diff_square}\")"
   ]
  }
 ],
 "metadata": {
  "kernelspec": {
   "display_name": "Python 3 (ipykernel)",
   "language": "python",
   "name": "python3"
  },
  "language_info": {
   "codemirror_mode": {
    "name": "ipython",
    "version": 3
   },
   "file_extension": ".py",
   "mimetype": "text/x-python",
   "name": "python",
   "nbconvert_exporter": "python",
   "pygments_lexer": "ipython3",
   "version": "3.9.13"
  }
 },
 "nbformat": 4,
 "nbformat_minor": 5
}
