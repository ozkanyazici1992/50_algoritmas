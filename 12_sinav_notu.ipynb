{
 "cells": [
  {
   "cell_type": "code",
   "execution_count": 1,
   "id": "da2f368f",
   "metadata": {},
   "outputs": [
    {
     "name": "stdout",
     "output_type": "stream",
     "text": [
      "please enter your score:80\n",
      "your letter score is:A \n"
     ]
    }
   ],
   "source": [
    "s = int(input(\"please enter your score:\"))\n",
    "if 0 <= s <= 100:\n",
    "    if s >=80:\n",
    "        result = \"A\"\n",
    "    elif s >= 65:\n",
    "        result = \"B\"\n",
    "    elif s >= 55:\n",
    "        result = \"C\"\n",
    "    elif s >= 50:\n",
    "        result = \"D\"\n",
    "    elif s < 50:\n",
    "        result = \"F\"\n",
    "    print(f\"your letter score is:{result} \")\n",
    "else:\n",
    "    print(\"invalid input\")    "
   ]
  }
 ],
 "metadata": {
  "kernelspec": {
   "display_name": "Python 3 (ipykernel)",
   "language": "python",
   "name": "python3"
  },
  "language_info": {
   "codemirror_mode": {
    "name": "ipython",
    "version": 3
   },
   "file_extension": ".py",
   "mimetype": "text/x-python",
   "name": "python",
   "nbconvert_exporter": "python",
   "pygments_lexer": "ipython3",
   "version": "3.9.13"
  }
 },
 "nbformat": 4,
 "nbformat_minor": 5
}
