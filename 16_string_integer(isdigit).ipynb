{
 "cells": [
  {
   "cell_type": "code",
   "execution_count": 1,
   "id": "e94fb0a7",
   "metadata": {},
   "outputs": [
    {
     "name": "stdout",
     "output_type": "stream",
     "text": [
      "please enter a figure:sarı\n",
      "make sure you enter figure\n"
     ]
    }
   ],
   "source": [
    "a = input(\"please enter a figure:\")\n",
    "if a.isdigit():\n",
    "    if int(a) in [0,1,2,3,4,5,6,7,8,9]:\n",
    "        result = int(a)+int(a*2)+int(a*3)\n",
    "    else:\n",
    "        result = \"make sure you enter figure\"\n",
    "else:\n",
    "    result = \"make sure you enter figure\"\n",
    "print(result)"
   ]
  },
  {
   "cell_type": "code",
   "execution_count": 2,
   "id": "4ceb6f1e",
   "metadata": {},
   "outputs": [
    {
     "name": "stdout",
     "output_type": "stream",
     "text": [
      "please enter a figure:8\n",
      "984\n"
     ]
    }
   ],
   "source": [
    "a = input(\"please enter a figure:\")\n",
    "if a.isdigit():\n",
    "    if int(a) in [0,1,2,3,4,5,6,7,8,9]:\n",
    "        result = int(a)+int(a*2)+int(a*3)\n",
    "    else:\n",
    "        result = \"make sure you enter figure\"\n",
    "else:\n",
    "    result = \"make sure you enter figure\"\n",
    "print(result)"
   ]
  }
 ],
 "metadata": {
  "kernelspec": {
   "display_name": "Python 3 (ipykernel)",
   "language": "python",
   "name": "python3"
  },
  "language_info": {
   "codemirror_mode": {
    "name": "ipython",
    "version": 3
   },
   "file_extension": ".py",
   "mimetype": "text/x-python",
   "name": "python",
   "nbconvert_exporter": "python",
   "pygments_lexer": "ipython3",
   "version": "3.9.13"
  }
 },
 "nbformat": 4,
 "nbformat_minor": 5
}
