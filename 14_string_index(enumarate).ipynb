{
 "cells": [
  {
   "cell_type": "code",
   "execution_count": 1,
   "id": "cc4277d9",
   "metadata": {
    "scrolled": true
   },
   "outputs": [
    {
     "name": "stdout",
     "output_type": "stream",
     "text": [
      "enter a word:kodland\n",
      "{0: 'k', 1: 'o', 2: 'd', 3: 'l', 4: 'a', 5: 'n', 6: 'd'}\n"
     ]
    }
   ],
   "source": [
    "x = input(\"enter a word:\")\n",
    "\n",
    "dict_1 = {}\n",
    "for i in range(len(x)):\n",
    "    dict_1[i] = x[i]\n",
    "print(dict_1)"
   ]
  },
  {
   "cell_type": "code",
   "execution_count": 2,
   "id": "ff5d045b",
   "metadata": {},
   "outputs": [
    {
     "data": {
      "text/plain": [
       "[(0, 'k'), (1, 'o'), (2, 'd'), (3, 'l'), (4, 'a'), (5, 'n'), (6, 'd')]"
      ]
     },
     "execution_count": 2,
     "metadata": {},
     "output_type": "execute_result"
    }
   ],
   "source": [
    "list(enumerate(\"kodland\"))"
   ]
  },
  {
   "cell_type": "code",
   "execution_count": 3,
   "id": "4be9d18d",
   "metadata": {},
   "outputs": [
    {
     "data": {
      "text/plain": [
       "{0: 'k', 1: 'o', 2: 'd', 3: 'l', 4: 'a', 5: 'n', 6: 'd'}"
      ]
     },
     "execution_count": 3,
     "metadata": {},
     "output_type": "execute_result"
    }
   ],
   "source": [
    "dict(enumerate(\"kodland\"))"
   ]
  },
  {
   "cell_type": "code",
   "execution_count": 4,
   "id": "df321304",
   "metadata": {},
   "outputs": [
    {
     "data": {
      "text/plain": [
       "<enumerate at 0x181908432c0>"
      ]
     },
     "execution_count": 4,
     "metadata": {},
     "output_type": "execute_result"
    }
   ],
   "source": [
    "enumerate(\"kodland\",1000)"
   ]
  },
  {
   "cell_type": "code",
   "execution_count": 5,
   "id": "a48994d3",
   "metadata": {},
   "outputs": [
    {
     "data": {
      "text/plain": [
       "{1000: 'k', 1001: 'o', 1002: 'd', 1003: 'l', 1004: 'a', 1005: 'n', 1006: 'd'}"
      ]
     },
     "execution_count": 5,
     "metadata": {},
     "output_type": "execute_result"
    }
   ],
   "source": [
    "dict(enumerate(\"kodland\",1000))"
   ]
  }
 ],
 "metadata": {
  "kernelspec": {
   "display_name": "Python 3 (ipykernel)",
   "language": "python",
   "name": "python3"
  },
  "language_info": {
   "codemirror_mode": {
    "name": "ipython",
    "version": 3
   },
   "file_extension": ".py",
   "mimetype": "text/x-python",
   "name": "python",
   "nbconvert_exporter": "python",
   "pygments_lexer": "ipython3",
   "version": "3.9.13"
  }
 },
 "nbformat": 4,
 "nbformat_minor": 5
}
