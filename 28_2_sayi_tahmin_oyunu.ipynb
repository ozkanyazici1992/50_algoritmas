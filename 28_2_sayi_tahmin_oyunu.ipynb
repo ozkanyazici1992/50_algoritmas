{
 "cells": [
  {
   "cell_type": "code",
   "execution_count": 1,
   "id": "da51ee3b",
   "metadata": {},
   "outputs": [
    {
     "name": "stdout",
     "output_type": "stream",
     "text": [
      "enter a number between 0 to 99:5\n",
      "enter a higher number:\n",
      "enter a number between 0 to 99:1\n",
      "enter a higher number:\n",
      "enter a number between 0 to 99:0\n",
      "enter a higher number:\n",
      "enter a number between 0 to 99:99\n",
      "enter a lowest number:\n",
      "enter a number between 0 to 99:50\n",
      "enter a lowest number:\n",
      "enter a number between 0 to 99:40\n",
      "enter a lowest number:\n",
      "enter a number between 0 to 99:30\n",
      "enter a lowest number:\n",
      "enter a number between 0 to 99:20\n",
      "enter a higher number:\n",
      "enter a number between 0 to 99:25\n",
      "enter a lowest number:\n",
      "enter a number between 0 to 99:27\n",
      "enter a lowest number:\n",
      "enter a number between 0 to 99:29\n",
      "enter a lowest number:\n",
      "enter a number between 0 to 99:28\n",
      "enter a lowest number:\n",
      "enter a number between 0 to 99:27\n",
      "enter a lowest number:\n",
      "enter a number between 0 to 99:26\n",
      "enter a lowest number:\n",
      "enter a number between 0 to 99:29\n",
      "enter a lowest number:\n",
      "enter a number between 0 to 99:30\n",
      "enter a lowest number:\n",
      "enter a number between 0 to 99:35\n",
      "enter a lowest number:\n",
      "enter a number between 0 to 99:40\n",
      "enter a lowest number:\n",
      "enter a number between 0 to 99:50\n",
      "enter a lowest number:\n",
      "enter a number between 0 to 99:60\n",
      "enter a lowest number:\n",
      "enter a number between 0 to 99:70\n",
      "enter a lowest number:\n",
      "enter a number between 0 to 99:80\n",
      "enter a lowest number:\n",
      "enter a number between 0 to 99:20\n",
      "enter a higher number:\n",
      "enter a number between 0 to 99:25\n",
      "enter a lowest number:\n",
      "enter a number between 0 to 99:24\n",
      "enter a lowest number:\n",
      "enter a number between 0 to 99:23\n",
      "enter a lowest number:\n",
      "enter a number between 0 to 99:22\n",
      "congrats\n",
      "27\n"
     ]
    }
   ],
   "source": [
    "import random\n",
    "random_num = random.randint(0,99)\n",
    "guess_count = 0\n",
    "while True:\n",
    "    guess = int (input(\"enter a number between 0 to 99:\"))\n",
    "    if guess < random_num:\n",
    "        print(\"enter a higher number:\")\n",
    "        guess_count +=1\n",
    "    elif guess > random_num:\n",
    "        print(\"enter a lowest number:\")\n",
    "        guess_count +=1\n",
    "    else:\n",
    "        print(\"congrats\")\n",
    "        guess_count +=1\n",
    "        break\n",
    "print(guess_count)"
   ]
  },
  {
   "cell_type": "code",
   "execution_count": null,
   "id": "9def3f22",
   "metadata": {},
   "outputs": [],
   "source": []
  }
 ],
 "metadata": {
  "kernelspec": {
   "display_name": "Python 3 (ipykernel)",
   "language": "python",
   "name": "python3"
  },
  "language_info": {
   "codemirror_mode": {
    "name": "ipython",
    "version": 3
   },
   "file_extension": ".py",
   "mimetype": "text/x-python",
   "name": "python",
   "nbconvert_exporter": "python",
   "pygments_lexer": "ipython3",
   "version": "3.9.13"
  }
 },
 "nbformat": 4,
 "nbformat_minor": 5
}
