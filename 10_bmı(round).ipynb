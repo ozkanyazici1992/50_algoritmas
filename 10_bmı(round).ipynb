{
 "cells": [
  {
   "cell_type": "code",
   "execution_count": 1,
   "id": "fbb87764",
   "metadata": {},
   "outputs": [
    {
     "name": "stdout",
     "output_type": "stream",
     "text": [
      "please enter your weight in kg:91\n",
      "please enter your heightin cm:176\n",
      "29.38\n",
      "your bmi is : 29.38 and your bodytype is :overweight\n"
     ]
    }
   ],
   "source": [
    "w = int(input(\"please enter your weight in kg:\"))\n",
    "h = int(input(\"please enter your heightin cm:\"))\n",
    "# result,2 ile virgülden sonra iki basamak\n",
    "result = round(w/((h/100)**2),2)\n",
    "print(result)\n",
    "\n",
    "if result<18.5:\n",
    "    body = \"underweight\"\n",
    "elif result<25:\n",
    "    body=\"normal\"\n",
    "elif result<30:\n",
    "    body = \"overweight\"\n",
    "elif result<35:\n",
    "    body = \"extremely obese\"\n",
    "print(f\"your bmi is : {result} and your bodytype is :{body}\")"
   ]
  }
 ],
 "metadata": {
  "kernelspec": {
   "display_name": "Python 3 (ipykernel)",
   "language": "python",
   "name": "python3"
  },
  "language_info": {
   "codemirror_mode": {
    "name": "ipython",
    "version": 3
   },
   "file_extension": ".py",
   "mimetype": "text/x-python",
   "name": "python",
   "nbconvert_exporter": "python",
   "pygments_lexer": "ipython3",
   "version": "3.9.13"
  }
 },
 "nbformat": 4,
 "nbformat_minor": 5
}
