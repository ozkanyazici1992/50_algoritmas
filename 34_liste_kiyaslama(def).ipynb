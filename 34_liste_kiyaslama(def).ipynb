{
 "cells": [
  {
   "cell_type": "code",
   "execution_count": 1,
   "id": "8ae364b1",
   "metadata": {},
   "outputs": [
    {
     "data": {
      "text/plain": [
       "['and', 'old', 'int']"
      ]
     },
     "execution_count": 1,
     "metadata": {},
     "output_type": "execute_result"
    }
   ],
   "source": [
    "def interwined(list1,list2):\n",
    "    new_list=[]\n",
    "    for i in list2:\n",
    "        for j in list1:\n",
    "            if j in i and j not in new_list:\n",
    "                new_list.append(j)\n",
    "    return new_list\n",
    "interwined([\"old\",\"int\",\"age\",\"and\"],[\"random\",\"soldier\",\"list\",\"print\"])"
   ]
  },
  {
   "cell_type": "code",
   "execution_count": 2,
   "id": "36c6c9fb",
   "metadata": {},
   "outputs": [
    {
     "data": {
      "text/plain": [
       "['and', 'old', 'int']"
      ]
     },
     "execution_count": 2,
     "metadata": {},
     "output_type": "execute_result"
    }
   ],
   "source": [
    "def interwined(list1,list2):\n",
    "    return [j for i in list2 for j in list1 if j in i]\n",
    "interwined([\"old\",\"int\",\"age\",\"and\"],[\"random\",\"soldier\",\"list\",\"print\"])"
   ]
  },
  {
   "cell_type": "code",
   "execution_count": 3,
   "id": "83240e90",
   "metadata": {},
   "outputs": [
    {
     "data": {
      "text/plain": [
       "{'and', 'int', 'old'}"
      ]
     },
     "execution_count": 3,
     "metadata": {},
     "output_type": "execute_result"
    }
   ],
   "source": [
    "def interwined(list1,list2):\n",
    "    return set([j for i in list2 for j in list1 if j in i])\n",
    "interwined([\"old\",\"int\",\"age\",\"and\"],[\"random\",\"soldier\",\"list\",\"print\"])"
   ]
  },
  {
   "cell_type": "code",
   "execution_count": 4,
   "id": "92873d38",
   "metadata": {},
   "outputs": [
    {
     "data": {
      "text/plain": [
       "['old', 'int', 'and']"
      ]
     },
     "execution_count": 4,
     "metadata": {},
     "output_type": "execute_result"
    }
   ],
   "source": [
    "def interwined(list1,list2):\n",
    "    return list(set([j for i in list2 for j in list1 if j in i]))\n",
    "interwined([\"old\",\"int\",\"age\",\"and\"],[\"random\",\"soldier\",\"list\",\"print\"])"
   ]
  }
 ],
 "metadata": {
  "kernelspec": {
   "display_name": "Python 3 (ipykernel)",
   "language": "python",
   "name": "python3"
  },
  "language_info": {
   "codemirror_mode": {
    "name": "ipython",
    "version": 3
   },
   "file_extension": ".py",
   "mimetype": "text/x-python",
   "name": "python",
   "nbconvert_exporter": "python",
   "pygments_lexer": "ipython3",
   "version": "3.9.13"
  }
 },
 "nbformat": 4,
 "nbformat_minor": 5
}
