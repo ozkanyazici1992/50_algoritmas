{
 "cells": [
  {
   "cell_type": "code",
   "execution_count": 1,
   "id": "2a16a9e3",
   "metadata": {
    "scrolled": true
   },
   "outputs": [
    {
     "name": "stdout",
     "output_type": "stream",
     "text": [
      "please enter a positive number:4\n",
      "2.0\n",
      "1.0\n",
      "max number is : 2.0\n"
     ]
    }
   ],
   "source": [
    "num = int(input(\"please enter a positive number:\"))\n",
    "\n",
    "num_list=[]\n",
    "while num != 1 :\n",
    "    if num % 2 == 0:\n",
    "        num = num/2\n",
    "    elif num % 2 == 1:\n",
    "        num = num * 3 + 1\n",
    "    num_list.append(num)\n",
    "    print(num)\n",
    "print(f\"max number is : {max(num_list)}\")"
   ]
  },
  {
   "cell_type": "code",
   "execution_count": 2,
   "id": "b7493760",
   "metadata": {},
   "outputs": [
    {
     "name": "stdout",
     "output_type": "stream",
     "text": [
      "please enter a positive number:7\n",
      "22\n",
      "11.0\n",
      "34.0\n",
      "17.0\n",
      "52.0\n",
      "26.0\n",
      "13.0\n",
      "40.0\n",
      "20.0\n",
      "10.0\n",
      "5.0\n",
      "16.0\n",
      "8.0\n",
      "4.0\n",
      "2.0\n",
      "1.0\n",
      "max number is : 52.0\n"
     ]
    }
   ],
   "source": [
    "num = int(input(\"please enter a positive number:\"))\n",
    "\n",
    "num_list=[]\n",
    "while num != 1 :\n",
    "    if num % 2 == 0:\n",
    "        num = num/2\n",
    "    elif num % 2 == 1:\n",
    "        num = num * 3 + 1\n",
    "    num_list.append(num)\n",
    "    print(num)\n",
    "print(f\"max number is : {max(num_list)}\")"
   ]
  }
 ],
 "metadata": {
  "kernelspec": {
   "display_name": "Python 3 (ipykernel)",
   "language": "python",
   "name": "python3"
  },
  "language_info": {
   "codemirror_mode": {
    "name": "ipython",
    "version": 3
   },
   "file_extension": ".py",
   "mimetype": "text/x-python",
   "name": "python",
   "nbconvert_exporter": "python",
   "pygments_lexer": "ipython3",
   "version": "3.9.13"
  }
 },
 "nbformat": 4,
 "nbformat_minor": 5
}
