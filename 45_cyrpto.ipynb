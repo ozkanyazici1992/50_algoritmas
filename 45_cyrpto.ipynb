{
 "cells": [
  {
   "cell_type": "code",
   "execution_count": 1,
   "id": "8c0ff8dc",
   "metadata": {},
   "outputs": [
    {
     "name": "stdout",
     "output_type": "stream",
     "text": [
      "enter a sentence or word:joseph\n"
     ]
    },
    {
     "data": {
      "text/plain": [
       "'ötyiüm'"
      ]
     },
     "execution_count": 1,
     "metadata": {},
     "output_type": "execute_result"
    }
   ],
   "source": [
    "word = input(\"enter a sentence or word:\")\n",
    "\n",
    "def crypto(word):\n",
    "    alphabet = \"abcçdefgğhıijklmnoöprsştuüvyz\"\n",
    "    rot_7 =    \"fgğhıijklmnoöprsştuüvyzabcçde\"\n",
    "    \n",
    "    new =\"\"\n",
    "    for i in word:\n",
    "        if i.isupper():\n",
    "            new += (rot_7[alphabet.index(i.lower())]).upper()\n",
    "        elif i.islower():\n",
    "            new += rot_7[alphabet.index(i)]\n",
    "        else:\n",
    "            new += i\n",
    "    return new\n",
    "crypto(word)"
   ]
  },
  {
   "cell_type": "code",
   "execution_count": 2,
   "id": "cefe944e",
   "metadata": {},
   "outputs": [
    {
     "name": "stdout",
     "output_type": "stream",
     "text": [
      "enter a sentence or word:nasılsınız lan\n"
     ]
    },
    {
     "data": {
      "text/plain": [
       "'şfynrynşne rfş'"
      ]
     },
     "execution_count": 2,
     "metadata": {},
     "output_type": "execute_result"
    }
   ],
   "source": [
    "word = input(\"enter a sentence or word:\")\n",
    "\n",
    "def crypto(word):\n",
    "    alphabet = \"abcçdefgğhıijklmnoöprsştuüvyz\"\n",
    "    rot_7 =    \"fgğhıijklmnoöprsştuüvyzabcçde\"\n",
    "    \n",
    "    new =\"\"\n",
    "    for i in word:\n",
    "        if i.isupper():\n",
    "            new += (rot_7[alphabet.index(i.lower())]).upper()\n",
    "        elif i.islower():\n",
    "            new += rot_7[alphabet.index(i)]\n",
    "        else:\n",
    "            new += i\n",
    "    return new\n",
    "crypto(word)"
   ]
  }
 ],
 "metadata": {
  "kernelspec": {
   "display_name": "Python 3 (ipykernel)",
   "language": "python",
   "name": "python3"
  },
  "language_info": {
   "codemirror_mode": {
    "name": "ipython",
    "version": 3
   },
   "file_extension": ".py",
   "mimetype": "text/x-python",
   "name": "python",
   "nbconvert_exporter": "python",
   "pygments_lexer": "ipython3",
   "version": "3.9.13"
  }
 },
 "nbformat": 4,
 "nbformat_minor": 5
}
