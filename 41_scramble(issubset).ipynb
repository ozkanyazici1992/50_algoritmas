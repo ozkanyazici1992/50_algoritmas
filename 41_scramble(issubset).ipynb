{
 "cells": [
  {
   "cell_type": "code",
   "execution_count": 1,
   "id": "887f3656",
   "metadata": {},
   "outputs": [
    {
     "data": {
      "text/plain": [
       "True"
      ]
     },
     "execution_count": 1,
     "metadata": {},
     "output_type": "execute_result"
    }
   ],
   "source": [
    "def  scramble (str1,str2):\n",
    "    a = set(str1)\n",
    "    count = 0 \n",
    "    for i in str2:\n",
    "        if i in a:\n",
    "            count +=1\n",
    "    if count == len(str2):\n",
    "        return True\n",
    "    else:\n",
    "        return False\n",
    "scramble(\"datascientist\",\"sedat\")"
   ]
  },
  {
   "cell_type": "code",
   "execution_count": 2,
   "id": "5d2b3d00",
   "metadata": {},
   "outputs": [
    {
     "data": {
      "text/plain": [
       "False"
      ]
     },
     "execution_count": 2,
     "metadata": {},
     "output_type": "execute_result"
    }
   ],
   "source": [
    "x = set(\"sedat\")\n",
    "x.issubset(\"data\")"
   ]
  },
  {
   "cell_type": "code",
   "execution_count": 3,
   "id": "237f1c32",
   "metadata": {},
   "outputs": [
    {
     "data": {
      "text/plain": [
       "{'a', 'd', 'e', 's', 't'}"
      ]
     },
     "execution_count": 3,
     "metadata": {},
     "output_type": "execute_result"
    }
   ],
   "source": [
    "def  scramble (str1,str2):\n",
    "    a1 = {i for i in str1 for j in str2 if set(i).issubset(j)}\n",
    "    return a1\n",
    "scramble(\"datascientist\",\"sedat\")"
   ]
  },
  {
   "cell_type": "code",
   "execution_count": 4,
   "id": "6bcfcbfa",
   "metadata": {},
   "outputs": [
    {
     "data": {
      "text/plain": [
       "True"
      ]
     },
     "execution_count": 4,
     "metadata": {},
     "output_type": "execute_result"
    }
   ],
   "source": [
    "def  scramble (str1,str2):\n",
    "    a1 = {i for i in str1 for j in str2 if set(i).issubset(j)}\n",
    "    return len(a1) == len(str2)\n",
    "scramble(\"datascientist\",\"sedat\")"
   ]
  }
 ],
 "metadata": {
  "kernelspec": {
   "display_name": "Python 3 (ipykernel)",
   "language": "python",
   "name": "python3"
  },
  "language_info": {
   "codemirror_mode": {
    "name": "ipython",
    "version": 3
   },
   "file_extension": ".py",
   "mimetype": "text/x-python",
   "name": "python",
   "nbconvert_exporter": "python",
   "pygments_lexer": "ipython3",
   "version": "3.9.13"
  }
 },
 "nbformat": 4,
 "nbformat_minor": 5
}
